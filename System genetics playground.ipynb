{
 "cells": [
  {
   "cell_type": "markdown",
   "metadata": {},
   "source": [
    "# Systems genetics 2020\n",
    "## Final Project  "
   ]
  },
  {
   "cell_type": "code",
   "execution_count": 1,
   "metadata": {},
   "outputs": [],
   "source": [
    "import pandas as pd\n",
    "import numpy as np\n",
    "import warnings\n",
    "warnings.filterwarnings('ignore')"
   ]
  },
  {
   "cell_type": "markdown",
   "metadata": {},
   "source": [
    "Load data files"
   ]
  },
  {
   "cell_type": "code",
   "execution_count": 2,
   "metadata": {},
   "outputs": [],
   "source": [
    "liver_exp = pd.read_csv('data/GSE17522_series_matrix_liver.txt', sep = \"\\t\")\n",
    "brain_exp = pd.read_csv('data/GSE36674_series_matrix_hypothalamus.txt', sep = \"\\t\")\n",
    "\n",
    "liver_annotations = pd.read_csv('data/annotations_liver_GPL6466-9752.txt', sep = \"\\t\")\n",
    "brain_annotations = pd.read_csv('data/annotation_brain.annot', sep = \"\\t\")\n",
    "\n",
    "genotypes = pd.read_excel('data/genotypes.xls', headers=None)\n",
    "phenotypes = pd.read_excel('data/phenotypes.xls')\n",
    "\n",
    "mgi = pd.read_csv('data/MGI_Coordinates.Build37.rpt.txt', sep = \"\\t\", error_bad_lines=False, warn_bad_lines=False)"
   ]
  },
  {
   "cell_type": "markdown",
   "metadata": {},
   "source": [
    "### 2. Gene expression data preprocessing"
   ]
  },
  {
   "cell_type": "markdown",
   "metadata": {},
   "source": [
    "#### • Make sure that the data is normalized"
   ]
  },
  {
   "cell_type": "code",
   "execution_count": 3,
   "metadata": {
    "scrolled": false
   },
   "outputs": [
    {
     "data": {
      "text/plain": [
       "'Data were extracted from the scanned image using Agilent Feature Extraction software version 6.1. A total of 122 arrays were run in 8 batches. The samples were semirandomly distributed throughout the batches prior to microarray analysis in order to separate sexes and strains, and to minimize between- and within- batch bias. Technical and biological replicates were run both within each batch and between batches. The microarray data was deposited in the UNC Microarray Database and extracted using Log2 ratios of the mean red channel intensity over the mean green channel intensity. This was followed by LOWESS normalization to remove the intensity dependent dye bias3. Neither the genes nor the arrays were centered. Inter-batch normalization was carried out using a nested ANOVA mixed model with samples within each batch crossed with sex and strain.'"
      ]
     },
     "execution_count": 3,
     "metadata": {},
     "output_type": "execute_result"
    }
   ],
   "source": [
    "liver_exp[liver_exp['!Sample_title'] == '!Sample_data_processing']['Liver_C57BL6J_M_B1_rep1'].iloc[0]"
   ]
  },
  {
   "cell_type": "code",
   "execution_count": 4,
   "metadata": {
    "scrolled": true
   },
   "outputs": [
    {
     "data": {
      "text/plain": [
       "'Probe intensity values were extracted using the Affymetrix GeneChip Operating Software and RMA normalized'"
      ]
     },
     "execution_count": 4,
     "metadata": {},
     "output_type": "execute_result"
    }
   ],
   "source": [
    "brain_exp[brain_exp['!Sample_title'] == '!Sample_data_processing']['BXD44_F'].iloc[0]"
   ]
  },
  {
   "cell_type": "markdown",
   "metadata": {},
   "source": [
    "#### • Merge data file with annotation file to get your input matrix"
   ]
  },
  {
   "cell_type": "code",
   "execution_count": 5,
   "metadata": {},
   "outputs": [],
   "source": [
    "def data_annotations_merge(df_exp, df_annotations):\n",
    "    \"\"\" Merge gene expression dataframe with annotations file \"\"\"\n",
    "    \n",
    "    # Remove metadata rows to get the raw data only\n",
    "    df_exp = df_exp[~df_exp['!Sample_title'].str.contains('!Sample_', na=False)]\n",
    "    df_exp = df_exp[~df_exp['!Sample_title'].str.contains('!series_', na=False)]\n",
    "    df_exp = df_exp[df_exp['!Sample_title'] != 'ID_REF']\n",
    "\n",
    "    # Rename ID column to match the annotation matrix\n",
    "    df_exp = df_exp.rename(columns = {'!Sample_title' : 'ID'})\n",
    "\n",
    "    # Merge with annotation matrix to get the gene identifier (gene symbol)\n",
    "    df_annotations = df_annotations[['ID', 'GENE_SYMBOL']]\n",
    "    input_matrix = df_annotations.merge(df_exp, left_on='ID', right_on='ID')\n",
    "    \n",
    "    return input_matrix  "
   ]
  },
  {
   "cell_type": "markdown",
   "metadata": {},
   "source": [
    "Brain"
   ]
  },
  {
   "cell_type": "code",
   "execution_count": 6,
   "metadata": {},
   "outputs": [],
   "source": [
    "brain_annotations = brain_annotations.rename(columns={'Gene symbol' : 'GENE_SYMBOL'})\n",
    "brain_matrix = data_annotations_merge(brain_exp, brain_annotations)"
   ]
  },
  {
   "cell_type": "markdown",
   "metadata": {},
   "source": [
    "Liver"
   ]
  },
  {
   "cell_type": "code",
   "execution_count": 7,
   "metadata": {},
   "outputs": [],
   "source": [
    "liver_matrix = data_annotations_merge(liver_exp, liver_annotations)\n",
    "\n",
    "# Keep BXD columns and identifier columns only\n",
    "liver_bxd_cols = list(liver_matrix.filter(regex=(\"BXD*\")).columns)\n",
    "id_cols = ['ID', 'GENE_SYMBOL']\n",
    "liver_matrix = liver_matrix[id_cols + liver_bxd_cols]\n",
    "\n",
    "# Rename BXD columns\n",
    "liver_matrix = liver_matrix.rename(columns={col : col.split('_')[1] + '_' + col.split('_')[2] \\\n",
    "                                            for col in liver_matrix.columns.drop(id_cols)})"
   ]
  },
  {
   "cell_type": "markdown",
   "metadata": {},
   "source": [
    "#### • Remove rows with no gene identifier, <br> • Remove rows with low maximal value.  <br> • Remove rows with low variance.  <br> • Average multiple rows\n"
   ]
  },
  {
   "cell_type": "code",
   "execution_count": 8,
   "metadata": {
    "scrolled": false
   },
   "outputs": [
    {
     "name": "stdout",
     "output_type": "stream",
     "text": [
      "Num of rows after removing all rows with maximal values less than 0.70: 7790 \n",
      "Num of rows after removing all rows with variance less than 0.20: 1310 \n",
      "Num of rows after removing duplicated rows: %d  1288\n"
     ]
    }
   ],
   "source": [
    "max_treshold = 0.7\n",
    "var_treshold = 0.2\n",
    "\n",
    "# Remove rows with no gene identifier\n",
    "liver_matrix = liver_matrix[~liver_matrix['GENE_SYMBOL'].isna()]\n",
    "liver_bxd_cols = list(liver_matrix.filter(regex=(\"BXD*\")).columns)\n",
    "\n",
    "for col in liver_bxd_cols:\n",
    "    liver_matrix[col] = liver_matrix[col].astype('float64')\n",
    "\n",
    "# Filter by maximal value\n",
    "liver_matrix['max'] = liver_matrix.drop(columns=['ID', 'GENE_SYMBOL']).max(axis=1)\n",
    "liver_matrix = liver_matrix[liver_matrix['max'] >= max_treshold]\n",
    "liver_matrix = liver_matrix.drop(columns = 'max')\n",
    "print(\"Num of rows after removing all rows with maximal values less than %.2f: %d \" % (max_treshold, len(liver_matrix)))\n",
    "\n",
    "# Filter by variance\n",
    "liver_matrix['var'] = liver_matrix.drop(columns=['ID', 'GENE_SYMBOL']).var(axis=1)\n",
    "liver_matrix = liver_matrix[liver_matrix['var'] >= var_treshold]\n",
    "liver_matrix = liver_matrix.drop(columns = 'var')\n",
    "print(\"Num of rows after removing all rows with variance less than %.2f: %d \" % (var_treshold, len(liver_matrix)))\n",
    "\n",
    "# Group multiple rows by mean\n",
    "liver_matrix = liver_matrix.groupby('GENE_SYMBOL').agg('mean').reset_index()\n",
    "print(\"Num of rows after removing duplicated rows: %d \", len(liver_matrix))"
   ]
  },
  {
   "cell_type": "code",
   "execution_count": 9,
   "metadata": {},
   "outputs": [
    {
     "name": "stdout",
     "output_type": "stream",
     "text": [
      "Num of rows after removing all rows with maximal values less than 9.00: 9899 \n",
      "Num of rows after removing all rows with variance less than 0.03: 2069 \n",
      "Num of rows after removing duplicated rows: %d  1792\n"
     ]
    }
   ],
   "source": [
    "max_treshold = 9\n",
    "var_treshold = 0.03\n",
    "\n",
    "# Remove rows with no gene identifier\n",
    "brain_matrix = brain_matrix[~brain_matrix['GENE_SYMBOL'].isna()]\n",
    "brain_bxd_cols = list(brain_matrix.filter(regex=(\"BXD*\")).columns)\n",
    "\n",
    "for col in brain_bxd_cols:\n",
    "    brain_matrix[col] = brain_matrix[col].astype('float64')\n",
    "\n",
    "# Filter by maximal value\n",
    "brain_matrix['max'] = brain_matrix.drop(columns=['ID', 'GENE_SYMBOL']).max(axis=1)\n",
    "brain_matrix = brain_matrix[brain_matrix['max'] >= max_treshold]\n",
    "brain_matrix = brain_matrix.drop(columns = 'max')\n",
    "print(\"Num of rows after removing all rows with maximal values less than %.2f: %d \" % (max_treshold, len(brain_matrix)))\n",
    "\n",
    "# Filter by variance\n",
    "brain_matrix['var'] = brain_matrix.drop(columns=['ID', 'GENE_SYMBOL']).var(axis=1)\n",
    "brain_matrix = brain_matrix[brain_matrix['var'] >= var_treshold]\n",
    "brain_matrix = brain_matrix.drop(columns = 'var')\n",
    "print(\"Num of rows after removing all rows with variance less than %.2f: %d \" % (var_treshold, len(brain_matrix)))\n",
    "\n",
    "# Group multiple rows by mean\n",
    "brain_matrix = brain_matrix.groupby('GENE_SYMBOL').agg('mean').reset_index()\n",
    "print(\"Num of rows after removing duplicated rows: %d \", len(brain_matrix))"
   ]
  },
  {
   "cell_type": "markdown",
   "metadata": {},
   "source": [
    "### 3. eQTL analysis"
   ]
  }
 ],
 "metadata": {
  "kernelspec": {
   "display_name": "Python 3",
   "language": "python",
   "name": "python3"
  },
  "language_info": {
   "codemirror_mode": {
    "name": "ipython",
    "version": 3
   },
   "file_extension": ".py",
   "mimetype": "text/x-python",
   "name": "python",
   "nbconvert_exporter": "python",
   "pygments_lexer": "ipython3",
   "version": "3.7.7"
  }
 },
 "nbformat": 4,
 "nbformat_minor": 4
}
