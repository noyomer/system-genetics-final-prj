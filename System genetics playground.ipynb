{
 "cells": [
  {
   "cell_type": "code",
   "execution_count": 1,
   "metadata": {},
   "outputs": [],
   "source": [
    "import pandas as pd\n",
    "import warnings\n",
    "warnings.filterwarnings('ignore')"
   ]
  },
  {
   "cell_type": "code",
   "execution_count": 9,
   "metadata": {},
   "outputs": [],
   "source": [
    "liver_exp = pd.read_csv('data/GSE17522_series_matrix_liver.txt', sep = \"\\t\")\n",
    "brain_exp = pd.read_csv('data/GSE36674_series_matrix_hypothalamus.txt', sep = \"\\t\")\n",
    "genotypes = pd.read_excel('data/genotypes.xls', headers=None)\n",
    "pheotypes = pd.read_excel('data/phenotypes.xls')\n",
    "mgi = pd.read_csv('data/MGI_Coordinates.Build37.rpt.txt', sep = \"\\t\", error_bad_lines=False, warn_bad_lines=False)"
   ]
  },
  {
   "cell_type": "code",
   "execution_count": 10,
   "metadata": {},
   "outputs": [
    {
     "data": {
      "text/html": [
       "<div>\n",
       "<style scoped>\n",
       "    .dataframe tbody tr th:only-of-type {\n",
       "        vertical-align: middle;\n",
       "    }\n",
       "\n",
       "    .dataframe tbody tr th {\n",
       "        vertical-align: top;\n",
       "    }\n",
       "\n",
       "    .dataframe thead th {\n",
       "        text-align: right;\n",
       "    }\n",
       "</style>\n",
       "<table border=\"1\" class=\"dataframe\">\n",
       "  <thead>\n",
       "    <tr style=\"text-align: right;\">\n",
       "      <th></th>\n",
       "      <th>!Sample_title</th>\n",
       "      <th>Liver_C57BL6J_M_B1_rep1</th>\n",
       "      <th>Liver_C57BL6J_M_B1_rep2</th>\n",
       "      <th>Liver_C57BL6J_F_B1</th>\n",
       "      <th>Liver_DBA2J_F_B1</th>\n",
       "      <th>Liver_B6D2F1_M_B1</th>\n",
       "      <th>Liver_BXD1_M_B1</th>\n",
       "      <th>Liver_BXD12_F_B1</th>\n",
       "      <th>Liver_BXD23_M_B1</th>\n",
       "      <th>Liver_BXD34_F_B1</th>\n",
       "      <th>...</th>\n",
       "      <th>Liver_BXD39_F_B8</th>\n",
       "      <th>Liver_BXD86_M_B8</th>\n",
       "      <th>Liver_BXD2_M_B8</th>\n",
       "      <th>Liver_BXD69_M_B8</th>\n",
       "      <th>Liver_BXD73_F_B8</th>\n",
       "      <th>Liver_BXD92_M_B8</th>\n",
       "      <th>Liver_BXD51_F_B8</th>\n",
       "      <th>Liver_BXD48_F_B8</th>\n",
       "      <th>Liver_BXD85_M_B8</th>\n",
       "      <th>Liver_BXD45_M_B8</th>\n",
       "    </tr>\n",
       "  </thead>\n",
       "  <tbody>\n",
       "    <tr>\n",
       "      <th>49</th>\n",
       "      <td>A_51_P100052</td>\n",
       "      <td>0.178</td>\n",
       "      <td>0.199</td>\n",
       "      <td>0.241</td>\n",
       "      <td>0.748</td>\n",
       "      <td>0.43</td>\n",
       "      <td>0.192</td>\n",
       "      <td>0.367</td>\n",
       "      <td>0.789</td>\n",
       "      <td>0.583</td>\n",
       "      <td>...</td>\n",
       "      <td>0.414</td>\n",
       "      <td>0.234</td>\n",
       "      <td>0.43</td>\n",
       "      <td>0.233</td>\n",
       "      <td>0.612</td>\n",
       "      <td>0.087</td>\n",
       "      <td>0.026</td>\n",
       "      <td>0.393</td>\n",
       "      <td>0.208</td>\n",
       "      <td>0.247</td>\n",
       "    </tr>\n",
       "  </tbody>\n",
       "</table>\n",
       "<p>1 rows × 123 columns</p>\n",
       "</div>"
      ],
      "text/plain": [
       "   !Sample_title Liver_C57BL6J_M_B1_rep1 Liver_C57BL6J_M_B1_rep2  \\\n",
       "49  A_51_P100052                   0.178                   0.199   \n",
       "\n",
       "   Liver_C57BL6J_F_B1 Liver_DBA2J_F_B1 Liver_B6D2F1_M_B1 Liver_BXD1_M_B1  \\\n",
       "49              0.241            0.748              0.43           0.192   \n",
       "\n",
       "   Liver_BXD12_F_B1 Liver_BXD23_M_B1 Liver_BXD34_F_B1  ... Liver_BXD39_F_B8  \\\n",
       "49            0.367            0.789            0.583  ...            0.414   \n",
       "\n",
       "   Liver_BXD86_M_B8 Liver_BXD2_M_B8 Liver_BXD69_M_B8 Liver_BXD73_F_B8  \\\n",
       "49            0.234            0.43            0.233            0.612   \n",
       "\n",
       "   Liver_BXD92_M_B8 Liver_BXD51_F_B8 Liver_BXD48_F_B8 Liver_BXD85_M_B8  \\\n",
       "49            0.087            0.026            0.393            0.208   \n",
       "\n",
       "   Liver_BXD45_M_B8  \n",
       "49            0.247  \n",
       "\n",
       "[1 rows x 123 columns]"
      ]
     },
     "execution_count": 10,
     "metadata": {},
     "output_type": "execute_result"
    }
   ],
   "source": [
    "liver_exp[liver_exp['!Sample_title'] == 'A_51_P100052']"
   ]
  }
 ],
 "metadata": {
  "kernelspec": {
   "display_name": "Python 3",
   "language": "python",
   "name": "python3"
  },
  "language_info": {
   "codemirror_mode": {
    "name": "ipython",
    "version": 3
   },
   "file_extension": ".py",
   "mimetype": "text/x-python",
   "name": "python",
   "nbconvert_exporter": "python",
   "pygments_lexer": "ipython3",
   "version": "3.7.7"
  }
 },
 "nbformat": 4,
 "nbformat_minor": 4
}
