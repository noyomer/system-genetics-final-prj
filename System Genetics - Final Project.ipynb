{
 "cells": [
  {
   "cell_type": "markdown",
   "metadata": {},
   "source": [
    "# Systems genetics 2020 - Final Project  "
   ]
  },
  {
   "cell_type": "markdown",
   "metadata": {},
   "source": [
    "Open issues - find phenotypes"
   ]
  },
  {
   "cell_type": "markdown",
   "metadata": {},
   "source": [
    "Import public packges"
   ]
  },
  {
   "cell_type": "code",
   "execution_count": 1,
   "metadata": {},
   "outputs": [],
   "source": [
    "import pandas as pd\n",
    "import numpy as np\n",
    "from scipy.stats import f\n",
    "import matplotlib.pyplot as plt\n",
    "import os.path\n",
    "import sys\n",
    "from tqdm import tqdm\n",
    "\n",
    "import warnings\n",
    "warnings.filterwarnings('ignore')"
   ]
  },
  {
   "cell_type": "markdown",
   "metadata": {},
   "source": [
    "Import custom packges"
   ]
  },
  {
   "cell_type": "code",
   "execution_count": 2,
   "metadata": {},
   "outputs": [],
   "source": [
    "sys.path.append('modules')\n",
    "\n",
    "from utils import print_dim, print_stats\n",
    "from preprocessing import data_annotations_merge\n",
    "from regression import eqtl_analysis, qtl_analysis\n",
    "from results_analysis import get_associations, cis_trans_annotation"
   ]
  },
  {
   "cell_type": "code",
   "execution_count": 3,
   "metadata": {},
   "outputs": [],
   "source": [
    "bold_s = '\\033[1m'\n",
    "bold_e = '\\033[0m'"
   ]
  },
  {
   "cell_type": "markdown",
   "metadata": {},
   "source": [
    "Load data files"
   ]
  },
  {
   "cell_type": "code",
   "execution_count": 4,
   "metadata": {},
   "outputs": [],
   "source": [
    "liver_exp = pd.read_csv('data/GSE17522_series_matrix_liver.txt', sep = \"\\t\")\n",
    "brain_exp = pd.read_csv('data/GSE36674_series_matrix_hypothalamus.txt', sep = \"\\t\")\n",
    "\n",
    "liver_annotations = pd.read_csv('data/annotations_liver_GPL6466-9752.txt', sep = \"\\t\")\n",
    "brain_annotations = pd.read_csv('data/annotation_brain.annot', sep = \"\\t\")\n",
    "\n",
    "genotypes = pd.read_excel('data/genotypes.xls', headers=None)\n",
    "phenotypes = pd.read_excel('data/phenotypes.xls')\n",
    "\n",
    "mgi = pd.read_csv('data/MGI_Coordinates.Build37.rpt.txt', sep = \"\\t\", error_bad_lines=False, warn_bad_lines=False)"
   ]
  },
  {
   "cell_type": "markdown",
   "metadata": {},
   "source": [
    "### 2. Gene expression data preprocessing"
   ]
  },
  {
   "cell_type": "markdown",
   "metadata": {},
   "source": [
    "#### A. Merge data file with annotation file to get your input matrix"
   ]
  },
  {
   "cell_type": "markdown",
   "metadata": {},
   "source": [
    "Brain"
   ]
  },
  {
   "cell_type": "code",
   "execution_count": 5,
   "metadata": {},
   "outputs": [],
   "source": [
    "brain_annotations = brain_annotations.rename(columns={'Gene symbol' : 'GENE_SYMBOL'})\n",
    "brain_matrix = data_annotations_merge(brain_exp, brain_annotations)"
   ]
  },
  {
   "cell_type": "markdown",
   "metadata": {},
   "source": [
    "Liver"
   ]
  },
  {
   "cell_type": "code",
   "execution_count": 6,
   "metadata": {},
   "outputs": [],
   "source": [
    "liver_matrix = data_annotations_merge(liver_exp, liver_annotations)\n",
    "\n",
    "# Keep BXD columns and identifier columns only\n",
    "liver_bxd_cols = list(liver_matrix.filter(regex=(\"BXD*\")).columns)\n",
    "id_cols = ['ID', 'GENE_SYMBOL']\n",
    "liver_matrix = liver_matrix[id_cols + liver_bxd_cols]\n",
    "\n",
    "# Rename BXD columns\n",
    "liver_matrix = liver_matrix.rename(columns={col : col.split('_')[1] + '_' + col.split('_')[2] \\\n",
    "                                            for col in liver_matrix.columns.drop(id_cols)})"
   ]
  },
  {
   "cell_type": "markdown",
   "metadata": {},
   "source": [
    "#### B. Keep only BXD columns that exists in the four files: genotypes, phenotypes and each tissue seperately"
   ]
  },
  {
   "cell_type": "code",
   "execution_count": 7,
   "metadata": {},
   "outputs": [],
   "source": [
    "genotypes_bxd_cols = list(genotypes.filter(regex=(\"BXD*\")).columns)\n",
    "phenotypes_bxd_cols = list(phenotypes.filter(regex=(\"BXD*\")).columns)\n",
    "\n",
    "genotypes_baseline_cols = [\"Locus\", \"Chr_Build37\", \"Build37_position\"]\n",
    "phenotypes_baseline_cols = [\"Phenotype\", \"Authors\", \"Year\", \"Pubmed Id\"]\n",
    "\n",
    "# liver common columns\n",
    "liver_matrix = liver_matrix.rename(columns = {col : col.split('_')[0] for col in liver_matrix.drop(columns = id_cols)}) \n",
    "liver_bxd_cols = list(liver_matrix.filter(regex='BXD').columns)\n",
    "liver_common_bxd = list(set(genotypes_bxd_cols) & set(phenotypes_bxd_cols) &  set(liver_bxd_cols))\n",
    "liver_common_bxd.sort()\n",
    "liver_matrix = liver_matrix[['GENE_SYMBOL'] + liver_common_bxd]\n",
    "liver_genotypes = genotypes[genotypes_baseline_cols + liver_common_bxd]\n",
    "liver_phenotypes = phenotypes[phenotypes_baseline_cols + liver_common_bxd]\n",
    "\n",
    "# brain common columns\n",
    "brain_matrix = brain_matrix.rename(columns = {col : col.split('_')[0] for col in brain_matrix.drop(columns = id_cols)}) \n",
    "brain_bxd_cols = list(brain_matrix.filter(regex='BXD').columns)\n",
    "brain_common_bxd = list(set(genotypes_bxd_cols) & set(phenotypes_bxd_cols) &  set(brain_bxd_cols))\n",
    "brain_common_bxd.sort()\n",
    "brain_matrix = brain_matrix[['GENE_SYMBOL'] + brain_common_bxd]\n",
    "brain_genotypes = genotypes[genotypes_baseline_cols + brain_common_bxd]\n",
    "brain_phenotypes = phenotypes[phenotypes_baseline_cols + brain_common_bxd]\n",
    "\n",
    "# drop empty lines from phenotypes file\n",
    "brain_phenotypes = brain_phenotypes.iloc[brain_phenotypes[brain_common_bxd].dropna(how='all').index]\n",
    "liver_phenotypes = liver_phenotypes.iloc[liver_phenotypes[liver_common_bxd].dropna(how='all').index]"
   ]
  },
  {
   "cell_type": "markdown",
   "metadata": {},
   "source": [
    "#### C. Use only representative genomic loci - Drop duplicated rows (of neighboring loci)"
   ]
  },
  {
   "cell_type": "code",
   "execution_count": null,
   "metadata": {},
   "outputs": [],
   "source": [
    "# liver genotypes filtering\n",
    "snps_org = len(liver_genotypes)\n",
    "\n",
    "bxd_data = liver_genotypes[liver_common_bxd]\n",
    "duplicates_indx = bxd_data[bxd_data.shift() != bxd_data].dropna(how='all').index\n",
    "liver_genotypes = liver_genotypes.loc[duplicates_indx]\n",
    "\n",
    "print(\"LIVER Genotypes: Drop duplications:\\n#SNPs before: %d   -->   #SNPs after: %d\" % (snps_org, len(liver_genotypes)))\n",
    "liver_genotypes.head(5)\n",
    "\n",
    "# Brain genotypes filtering\n",
    "snps_org = len(brain_genotypes)\n",
    "\n",
    "bxd_data = brain_genotypes[brain_common_bxd]\n",
    "duplicates_indx = bxd_data[bxd_data.shift() != bxd_data].dropna(how='all').index\n",
    "brain_genotypes = brain_genotypes.loc[duplicates_indx]\n",
    "\n",
    "print(\"LIVER Genotypes: Drop duplications:\\n#SNPs before: %d   -->   #SNPs after: %d\" % (snps_org, len(brain_genotypes)))\n",
    "brain_genotypes.head(5)"
   ]
  },
  {
   "cell_type": "markdown",
   "metadata": {},
   "source": [
    "#### • Remove rows with no gene identifier, <br> • Remove rows with low maximal value.  <br> • Remove rows with low variance.  <br> • Average multiple rows\n"
   ]
  },
  {
   "cell_type": "markdown",
   "metadata": {},
   "source": [
    "Liver"
   ]
  },
  {
   "cell_type": "code",
   "execution_count": null,
   "metadata": {
    "scrolled": false
   },
   "outputs": [],
   "source": [
    "max_treshold = 0.7\n",
    "var_treshold = 0.2\n",
    "\n",
    "# Remove rows with no gene identifier\n",
    "liver_matrix = liver_matrix[~liver_matrix['GENE_SYMBOL'].isna()]\n",
    "liver_bxd_cols = list(liver_matrix.filter(regex=(\"BXD*\")).columns)\n",
    "\n",
    "for col in liver_bxd_cols:\n",
    "    liver_matrix[col] = liver_matrix[col].astype('float64')\n",
    "\n",
    "# Filter by maximal value\n",
    "liver_matrix['max'] = liver_matrix.drop(columns=['GENE_SYMBOL']).max(axis=1)\n",
    "liver_matrix = liver_matrix[liver_matrix['max'] >= max_treshold]\n",
    "liver_matrix = liver_matrix.drop(columns = 'max')\n",
    "print(\"Num of rows after removing all rows with maximal values less than %.2f: %d \" % (max_treshold, len(liver_matrix)))\n",
    "\n",
    "# Filter by variance\n",
    "liver_matrix['var'] = liver_matrix.drop(columns=['GENE_SYMBOL']).var(axis=1)\n",
    "liver_matrix = liver_matrix[liver_matrix['var'] >= var_treshold]\n",
    "liver_matrix = liver_matrix.drop(columns = 'var')\n",
    "print(\"Num of rows after removing all rows with variance less than %.2f: %d \" % (var_treshold, len(liver_matrix)))\n",
    "\n",
    "# Group multiple rows by mean\n",
    "liver_matrix = liver_matrix.groupby('GENE_SYMBOL').agg('mean').reset_index()\n",
    "print(\"Num of rows after removing duplicated rows: %d \", len(liver_matrix))"
   ]
  },
  {
   "cell_type": "markdown",
   "metadata": {},
   "source": [
    "Brain"
   ]
  },
  {
   "cell_type": "code",
   "execution_count": null,
   "metadata": {},
   "outputs": [],
   "source": [
    "max_treshold = 9\n",
    "var_treshold = 0.04\n",
    "\n",
    "# Remove rows with no gene identifier\n",
    "brain_matrix = brain_matrix[~brain_matrix['GENE_SYMBOL'].isna()]\n",
    "brain_bxd_cols = list(brain_matrix.filter(regex=(\"BXD*\")).columns)\n",
    "\n",
    "for col in brain_bxd_cols:\n",
    "    brain_matrix[col] = brain_matrix[col].astype('float64')\n",
    "\n",
    "# Filter by maximal value\n",
    "brain_matrix['max'] = brain_matrix.drop(columns=['GENE_SYMBOL']).max(axis=1)\n",
    "brain_matrix = brain_matrix[brain_matrix['max'] >= max_treshold]\n",
    "brain_matrix = brain_matrix.drop(columns = 'max')\n",
    "print(\"Num of rows after removing all rows with maximal values less than %.2f: %d \" % (max_treshold, len(brain_matrix)))\n",
    "\n",
    "# Filter by variance\n",
    "brain_matrix['var'] = brain_matrix.drop(columns=['GENE_SYMBOL']).var(axis=1)\n",
    "brain_matrix = brain_matrix[brain_matrix['var'] >= var_treshold]\n",
    "brain_matrix = brain_matrix.drop(columns = 'var')\n",
    "print(\"Num of rows after removing all rows with variance less than %.2f: %d \" % (var_treshold, len(brain_matrix)))\n",
    "\n",
    "# Group multiple rows by mean\n",
    "brain_matrix = brain_matrix.groupby('GENE_SYMBOL').agg('mean').reset_index()\n",
    "print(\"Num of rows after removing duplicated rows: %d \", len(brain_matrix))"
   ]
  },
  {
   "cell_type": "markdown",
   "metadata": {},
   "source": [
    "#### • Average across different individuals of the same strain (Females and males)"
   ]
  },
  {
   "cell_type": "code",
   "execution_count": null,
   "metadata": {},
   "outputs": [],
   "source": [
    "liver_matrix = liver_matrix.rename(columns = {col : col.split('_')[0] for col in liver_matrix.drop(columns = ['GENE_SYMBOL'])}) \n",
    "liver_matrix = liver_matrix.set_index(['GENE_SYMBOL']) \n",
    "liver_matrix = liver_matrix.groupby(by=liver_matrix.columns, axis=1).mean()\n",
    "liver_matrix = liver_matrix.reset_index()\n",
    "\n",
    "brain_matrix = brain_matrix.rename(columns = {col : col.split('_')[0] for col in brain_matrix.drop(columns = ['GENE_SYMBOL'])}) \n",
    "brain_matrix = brain_matrix.set_index(['GENE_SYMBOL']) \n",
    "brain_matrix = brain_matrix.groupby(by=brain_matrix.columns, axis=1).mean()\n",
    "brain_matrix = brain_matrix.reset_index()"
   ]
  },
  {
   "cell_type": "markdown",
   "metadata": {},
   "source": [
    "### 3. eQTL analysis"
   ]
  },
  {
   "cell_type": "markdown",
   "metadata": {},
   "source": [
    "#### Run  Regression"
   ]
  },
  {
   "cell_type": "code",
   "execution_count": null,
   "metadata": {},
   "outputs": [],
   "source": [
    "print_dim(len(liver_matrix), len(liver_genotypes), title=\"Liver: \")\n",
    "print_dim(len(brain_matrix), len(brain_genotypes), title=\"Brain: \")"
   ]
  },
  {
   "cell_type": "code",
   "execution_count": null,
   "metadata": {
    "scrolled": true
   },
   "outputs": [],
   "source": [
    "# Brain eqtl\n",
    "if not os.path.exists(\"brain_reg_results.csv\"):\n",
    "    brain_eqtls = eqtl_analysis(brain_matrix, brain_genotypes, file_prefix=\"brain_\")\n",
    "else:\n",
    "    brain_eqtls = pd.read_csv(\"brain_reg_results.csv\")\n",
    "    brain_eqtls = brain_eqtls.drop(columns='Unnamed: 0')\n",
    "    \n",
    "# Liver eqtl\n",
    "if not os.path.exists(\"liver_reg_results.csv\"):\n",
    "    liver_eqtls = eqtl_analysis(liver_matrix, liver_genotypes, file_prefix=\"liver_\")\n",
    "else:\n",
    "    liver_eqtls = pd.read_csv(\"liver_reg_results.csv\")\n",
    "    liver_eqtls = liver_eqtls.drop(columns='Unnamed: 0')"
   ]
  },
  {
   "cell_type": "markdown",
   "metadata": {},
   "source": [
    "#### Cis/Trans annotation"
   ]
  },
  {
   "cell_type": "code",
   "execution_count": null,
   "metadata": {},
   "outputs": [],
   "source": [
    "brain_eqtls = cis_trans_annotation(brain_eqtls.copy(), mgi)\n",
    "liver_eqtls = cis_trans_annotation(liver_eqtls.copy(), mgi)"
   ]
  },
  {
   "cell_type": "markdown",
   "metadata": {},
   "source": [
    "#### Multiple test correction and associations filtering"
   ]
  },
  {
   "cell_type": "code",
   "execution_count": null,
   "metadata": {},
   "outputs": [],
   "source": [
    "brain_associations, brain_num_tests = get_associations(brain_eqtls) # by bonfferoni corrections\n",
    "brain_associations.to_csv(\"brain_assoc_eqtl.csv\")\n",
    "\n",
    "liver_associations, liver_num_tests = get_associations(liver_eqtls) # by bonfferoni corrections\n",
    "liver_associations.to_csv(\"brain_assoc_eqtl.csv\")\n",
    "\n",
    "print_stats(brain_associations, brain_num_tests, \"1. Brain\")\n",
    "print_stats(liver_associations, liver_num_tests, \"\\n\\n2. Liver\")\n",
    "\n",
    "shared_assoc_snp = set(liver_associations['SNP'].unique()) & set(brain_associations['SNP'].unique())\n",
    "print((bold_s + \"\\n\\nIn total, there are %d common SNPs\" + bold_e) % len(shared_assoc_snp))"
   ]
  },
  {
   "cell_type": "markdown",
   "metadata": {},
   "source": [
    "### 4. QTL analysis"
   ]
  },
  {
   "cell_type": "markdown",
   "metadata": {},
   "source": [
    "* Currently looks like no morphine phenotype is significant.."
   ]
  },
  {
   "cell_type": "code",
   "execution_count": null,
   "metadata": {},
   "outputs": [],
   "source": [
    "# Get all phenotypes related to Morphine by naive text search\n",
    "morphine_phenotypes_b = brain_phenotypes[brain_phenotypes['Phenotype'].str.contains(\"Morphine\")]\n",
    "morphine_phenotypes_l = liver_phenotypes[liver_phenotypes['Phenotype'].str.contains(\"Morphine\")]"
   ]
  },
  {
   "cell_type": "code",
   "execution_count": null,
   "metadata": {},
   "outputs": [],
   "source": [
    "logpval_brain = qtl_analysis(morphine_phenotypes_b, brain_genotypes, file_prefix=\"brain_morphine_\")\n",
    "logpval_liver = qtl_analysis(morphine_phenotypes_l, liver_genotypes, file_prefix=\"liver_morphine_\")"
   ]
  },
  {
   "cell_type": "code",
   "execution_count": null,
   "metadata": {},
   "outputs": [],
   "source": [
    "assoc_qtl_l, ntests_qtl_l = get_associations(logpval_brain) # by bonfferoni corrections\n",
    "assoc_qtl_b, ntests_qtl_b = get_associations(logpval_liver) # by bonfferoni corrections"
   ]
  }
 ],
 "metadata": {
  "kernelspec": {
   "display_name": "Python 3",
   "language": "python",
   "name": "python3"
  },
  "language_info": {
   "codemirror_mode": {
    "name": "ipython",
    "version": 3
   },
   "file_extension": ".py",
   "mimetype": "text/x-python",
   "name": "python",
   "nbconvert_exporter": "python",
   "pygments_lexer": "ipython3",
   "version": "3.7.7"
  }
 },
 "nbformat": 4,
 "nbformat_minor": 4
}
