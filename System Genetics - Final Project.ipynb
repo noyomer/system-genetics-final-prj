{
 "cells": [
  {
   "cell_type": "markdown",
   "metadata": {},
   "source": [
    "# Systems genetics 2020 - Final Project  "
   ]
  },
  {
   "cell_type": "markdown",
   "metadata": {},
   "source": [
    "#### Note!\n",
    "Our project is devided into several python modules which are loaded and excecuted from this notebook. <br>\n",
    "Most of our code's project can be found under the /modules directory. "
   ]
  },
  {
   "cell_type": "markdown",
   "metadata": {},
   "source": [
    "Import public packges"
   ]
  },
  {
   "cell_type": "code",
   "execution_count": 1,
   "metadata": {},
   "outputs": [],
   "source": [
    "import pandas as pd\n",
    "import numpy as np\n",
    "from scipy.stats import f\n",
    "import matplotlib.pyplot as plt\n",
    "import os.path\n",
    "import seaborn as sns\n",
    "import sys\n",
    "from scipy import stats \n",
    "import warnings\n",
    "warnings.filterwarnings('ignore')"
   ]
  },
  {
   "cell_type": "markdown",
   "metadata": {},
   "source": [
    "Import custom packges (our python modules)"
   ]
  },
  {
   "cell_type": "code",
   "execution_count": 2,
   "metadata": {},
   "outputs": [],
   "source": [
    "sys.path.append('modules')\n",
    "\n",
    "from utils import print_dim, print_stats\n",
    "from preprocessing import data_annotations_merge\n",
    "from regression import eqtl_analysis, qtl_analysis\n",
    "from results_analysis import get_associations, cis_trans_annotation\n",
    "from causality_analysis import generate_models_df, get_LR, get_shuffled_df\n",
    "from visualizations import plot_associated_genes_per_eqtl, plot_association_pval_dist, plot_summary_visualization"
   ]
  },
  {
   "cell_type": "code",
   "execution_count": 3,
   "metadata": {},
   "outputs": [],
   "source": [
    "bold_s = '\\033[1m'\n",
    "bold_e = '\\033[0m'"
   ]
  },
  {
   "cell_type": "markdown",
   "metadata": {},
   "source": [
    "Load data files"
   ]
  },
  {
   "cell_type": "code",
   "execution_count": 4,
   "metadata": {},
   "outputs": [],
   "source": [
    "liver_exp = pd.read_csv('data/GSE17522_series_matrix_liver.txt', sep = \"\\t\")\n",
    "brain_exp = pd.read_csv('data/GSE36674_series_matrix_hypothalamus.txt', sep = \"\\t\")\n",
    "\n",
    "liver_annotations = pd.read_csv('data/annotations_liver_GPL6466-9752.txt', sep = \"\\t\")\n",
    "brain_annotations = pd.read_csv('data/annotation_brain.annot', sep = \"\\t\")\n",
    "\n",
    "genotypes = pd.read_excel('data/genotypes.xls', headers=None)\n",
    "phenotypes = pd.read_excel('data/phenotypes.xls')\n",
    "\n",
    "mgi = pd.read_csv('data/MGI_Coordinates.Build37.rpt.txt', sep = \"\\t\", error_bad_lines=False, warn_bad_lines=False)"
   ]
  },
  {
   "cell_type": "markdown",
   "metadata": {},
   "source": [
    "## Part 2: Gene expression data preprocessing"
   ]
  },
  {
   "cell_type": "markdown",
   "metadata": {},
   "source": [
    "#### A. Merge data file with annotation file to get your input matrix"
   ]
  },
  {
   "cell_type": "markdown",
   "metadata": {},
   "source": [
    "Brain"
   ]
  },
  {
   "cell_type": "code",
   "execution_count": 5,
   "metadata": {},
   "outputs": [],
   "source": [
    "brain_annotations = brain_annotations.rename(columns={'Gene symbol' : 'GENE_SYMBOL'})\n",
    "brain_matrix = data_annotations_merge(brain_exp, brain_annotations)"
   ]
  },
  {
   "cell_type": "markdown",
   "metadata": {},
   "source": [
    "Liver"
   ]
  },
  {
   "cell_type": "code",
   "execution_count": 6,
   "metadata": {},
   "outputs": [],
   "source": [
    "liver_matrix = data_annotations_merge(liver_exp, liver_annotations)\n",
    "\n",
    "# Keep BXD columns and identifier columns only\n",
    "liver_bxd_cols = list(liver_matrix.filter(regex=(\"BXD*\")).columns)\n",
    "id_cols = ['ID', 'GENE_SYMBOL']\n",
    "liver_matrix = liver_matrix[id_cols + liver_bxd_cols]\n",
    "\n",
    "# Rename BXD columns\n",
    "liver_matrix = liver_matrix.rename(columns={col : col.split('_')[1] + '_' + col.split('_')[2] \\\n",
    "                                            for col in liver_matrix.columns.drop(id_cols)})"
   ]
  },
  {
   "cell_type": "markdown",
   "metadata": {},
   "source": [
    "#### B. Keep only BXD columns that exists in all files: genotypes, phenotypes and tissue"
   ]
  },
  {
   "cell_type": "code",
   "execution_count": 7,
   "metadata": {},
   "outputs": [],
   "source": [
    "genotypes_bxd_cols = list(genotypes.filter(regex=(\"BXD*\")).columns)\n",
    "phenotypes_bxd_cols = list(phenotypes.filter(regex=(\"BXD*\")).columns)\n",
    "\n",
    "genotypes_baseline_cols = [\"Locus\", \"Chr_Build37\", \"Build37_position\"]\n",
    "phenotypes_baseline_cols = [\"Phenotype\", \"Authors\", \"Year\", \"Pubmed Id\"]\n",
    "\n",
    "# liver common columns\n",
    "liver_matrix = liver_matrix.rename(columns = {col : col.split('_')[0] for col in liver_matrix.drop(columns = id_cols)}) \n",
    "liver_bxd_cols = list(liver_matrix.filter(regex='BXD').columns)\n",
    "liver_common_bxd = list(set(genotypes_bxd_cols) & set(phenotypes_bxd_cols) &  set(liver_bxd_cols))\n",
    "liver_common_bxd.sort()\n",
    "liver_matrix = liver_matrix[['GENE_SYMBOL'] + liver_common_bxd]\n",
    "liver_genotypes = genotypes[genotypes_baseline_cols + liver_common_bxd]\n",
    "liver_phenotypes = phenotypes[phenotypes_baseline_cols + liver_common_bxd]\n",
    "\n",
    "# brain common columns\n",
    "brain_matrix = brain_matrix.rename(columns = {col : col.split('_')[0] for col in brain_matrix.drop(columns = id_cols)}) \n",
    "brain_bxd_cols = list(brain_matrix.filter(regex='BXD').columns)\n",
    "brain_common_bxd = list(set(genotypes_bxd_cols) & set(phenotypes_bxd_cols) &  set(brain_bxd_cols))\n",
    "brain_common_bxd.sort()\n",
    "brain_matrix = brain_matrix[['GENE_SYMBOL'] + brain_common_bxd]\n",
    "brain_genotypes = genotypes[genotypes_baseline_cols + brain_common_bxd]\n",
    "brain_phenotypes = phenotypes[phenotypes_baseline_cols + brain_common_bxd]\n",
    "\n",
    "# drop empty lines from phenotypes file\n",
    "brain_phenotypes = brain_phenotypes.iloc[brain_phenotypes[brain_common_bxd].dropna(how='all').index]\n",
    "liver_phenotypes = liver_phenotypes.iloc[liver_phenotypes[liver_common_bxd].dropna(how='all').index]"
   ]
  },
  {
   "cell_type": "markdown",
   "metadata": {},
   "source": [
    "#### C. Use only representative genomic loci - Drop duplicated rows (of neighboring loci)"
   ]
  },
  {
   "cell_type": "code",
   "execution_count": 8,
   "metadata": {},
   "outputs": [
    {
     "name": "stdout",
     "output_type": "stream",
     "text": [
      "LIVER Genotypes: Drop duplications:\n",
      "#SNPs before: 3796   -->   #SNPs after: 1403\n",
      "\n",
      "BRAIN Genotypes: Drop duplications:\n",
      "#SNPs before: 3796   -->   #SNPs after: 1598\n"
     ]
    }
   ],
   "source": [
    "# liver genotypes filtering\n",
    "snps_org = len(liver_genotypes)\n",
    "bxd_data = liver_genotypes[liver_common_bxd]\n",
    "duplicates_indx = bxd_data[bxd_data.shift() != bxd_data].dropna(how='all').index\n",
    "liver_genotypes = liver_genotypes.loc[duplicates_indx]\n",
    "print(\"LIVER Genotypes: Drop duplications:\\n#SNPs before: %d   -->   #SNPs after: %d\" % (snps_org, len(liver_genotypes)))\n",
    "\n",
    "# Brain genotypes filtering\n",
    "snps_org = len(brain_genotypes)\n",
    "bxd_data = brain_genotypes[brain_common_bxd]\n",
    "duplicates_indx = bxd_data[bxd_data.shift() != bxd_data].dropna(how='all').index\n",
    "brain_genotypes = brain_genotypes.loc[duplicates_indx]\n",
    "print(\"\\nBRAIN Genotypes: Drop duplications:\\n#SNPs before: %d   -->   #SNPs after: %d\" % (snps_org, len(brain_genotypes)))"
   ]
  },
  {
   "cell_type": "markdown",
   "metadata": {},
   "source": [
    "#### • Remove rows with no gene identifier, <br> • Remove rows with low maximal value.  <br> • Remove rows with low variance.  <br> • Average multiple rows\n"
   ]
  },
  {
   "cell_type": "markdown",
   "metadata": {},
   "source": [
    "Liver"
   ]
  },
  {
   "cell_type": "code",
   "execution_count": 9,
   "metadata": {
    "scrolled": false
   },
   "outputs": [
    {
     "name": "stdout",
     "output_type": "stream",
     "text": [
      "Num of rows in liver expression file:  20868\n",
      "Num of rows after removing rows with no gene identifier:  19272\n",
      "Num of rows after removing all rows with maximal values less than 0.70: 7772 \n"
     ]
    },
    {
     "data": {
      "image/png": "[encoded data removed]",
      "text/plain": [
       "<Figure size 432x288 with 1 Axes>"
      ]
     },
     "metadata": {
      "needs_background": "light"
     },
     "output_type": "display_data"
    },
    {
     "name": "stdout",
     "output_type": "stream",
     "text": [
      "Num of rows after removing all rows with variance less than 0.20: 1308 \n"
     ]
    },
    {
     "data": {
      "image/png": "[encoded data removed]",
      "text/plain": [
       "<Figure size 432x288 with 1 Axes>"
      ]
     },
     "metadata": {
      "needs_background": "light"
     },
     "output_type": "display_data"
    },
    {
     "name": "stdout",
     "output_type": "stream",
     "text": [
      "Num of rows after removing duplicated rows: %d  1285\n"
     ]
    }
   ],
   "source": [
    "max_treshold = 0.7\n",
    "var_treshold = 0.2\n",
    "\n",
    "# Remove rows with no gene identifier\n",
    "print(\"Num of rows in liver expression file: \", len(liver_matrix))\n",
    "liver_matrix = liver_matrix[~liver_matrix['GENE_SYMBOL'].isna()]\n",
    "print(\"Num of rows after removing rows with no gene identifier: \", len(liver_matrix))\n",
    "\n",
    "liver_bxd_cols = list(liver_matrix.filter(regex=(\"BXD*\")).columns)\n",
    "for col in liver_bxd_cols:\n",
    "    liver_matrix[col] = liver_matrix[col].astype('float64')\n",
    "\n",
    "# Filter by maximal value\n",
    "liver_matrix['max'] = liver_matrix.drop(columns=['GENE_SYMBOL']).max(axis=1)\n",
    "sns.kdeplot(liver_matrix['max'], shade=True).set_title('Gene expression max values distribution (Liver)')\n",
    "liver_matrix = liver_matrix[liver_matrix['max'] >= max_treshold]\n",
    "liver_matrix = liver_matrix.drop(columns = 'max')\n",
    "print(\"Num of rows after removing all rows with maximal values less than %.2f: %d \" % (max_treshold, len(liver_matrix)))\n",
    "plt.show()\n",
    "\n",
    "# Filter by variance\n",
    "liver_matrix['var'] = liver_matrix.drop(columns=['GENE_SYMBOL']).var(axis=1)\n",
    "sns.kdeplot(liver_matrix['var'], shade=True).set_title('Gene expression variance distribution (Liver)')\n",
    "liver_matrix = liver_matrix[liver_matrix['var'] >= var_treshold]\n",
    "liver_matrix = liver_matrix.drop(columns = 'var')\n",
    "print(\"Num of rows after removing all rows with variance less than %.2f: %d \" % (var_treshold, len(liver_matrix)))\n",
    "plt.show()\n",
    "\n",
    "# Group multiple rows by mean\n",
    "liver_matrix = liver_matrix.groupby('GENE_SYMBOL').agg('mean').reset_index()\n",
    "print(\"Num of rows after removing duplicated rows: %d \", len(liver_matrix))"
   ]
  },
  {
   "cell_type": "markdown",
   "metadata": {},
   "source": [
    "Brain"
   ]
  },
  {
   "cell_type": "code",
   "execution_count": 10,
   "metadata": {},
   "outputs": [
    {
     "name": "stdout",
     "output_type": "stream",
     "text": [
      "Num of rows in brain expression file:  27365\n",
      "Num of rows after removing rows with no gene identifier:  21512\n",
      "Num of rows after removing all rows with maximal values less than 9.00: 9893 \n"
     ]
    },
    {
     "data": {
      "image/png": "[encoded data removed]",
      "text/plain": [
       "<Figure size 432x288 with 1 Axes>"
      ]
     },
     "metadata": {
      "needs_background": "light"
     },
     "output_type": "display_data"
    },
    {
     "name": "stdout",
     "output_type": "stream",
     "text": [
      "Num of rows after removing all rows with variance less than 0.04: 1444 \n"
     ]
    },
    {
     "data": {
      "image/png": "[encoded data removed]",
      "text/plain": [
       "<Figure size 432x288 with 1 Axes>"
      ]
     },
     "metadata": {
      "needs_background": "light"
     },
     "output_type": "display_data"
    },
    {
     "name": "stdout",
     "output_type": "stream",
     "text": [
      "Num of rows after removing duplicated rows: %d  1247\n"
     ]
    }
   ],
   "source": [
    "max_treshold = 9\n",
    "var_treshold = 0.04\n",
    "\n",
    "# Remove rows with no gene identifier\n",
    "print(\"Num of rows in brain expression file: \", len(brain_matrix))\n",
    "brain_matrix = brain_matrix[~brain_matrix['GENE_SYMBOL'].isna()]\n",
    "print(\"Num of rows after removing rows with no gene identifier: \", len(brain_matrix))\n",
    "\n",
    "brain_bxd_cols = list(brain_matrix.filter(regex=(\"BXD*\")).columns)\n",
    "for col in brain_bxd_cols:\n",
    "    brain_matrix[col] = brain_matrix[col].astype('float64')\n",
    "    \n",
    "# Filter by maximal value\n",
    "brain_matrix['max'] = brain_matrix.drop(columns=['GENE_SYMBOL']).max(axis=1)\n",
    "sns.kdeplot(brain_matrix['max'], shade=True).set_title('Gene expression max values distribution (Brain)')\n",
    "brain_matrix = brain_matrix[brain_matrix['max'] >= max_treshold]\n",
    "brain_matrix = brain_matrix.drop(columns = 'max')\n",
    "print(\"Num of rows after removing all rows with maximal values less than %.2f: %d \" % (max_treshold, len(brain_matrix)))\n",
    "plt.show()\n",
    "\n",
    "# Filter by variance\n",
    "brain_matrix['var'] = brain_matrix.drop(columns=['GENE_SYMBOL']).var(axis=1)\n",
    "sns.kdeplot(brain_matrix['var'], shade=True).set_title('Gene expression variance distribution (Brain)')\n",
    "brain_matrix = brain_matrix[brain_matrix['var'] >= var_treshold]\n",
    "brain_matrix = brain_matrix.drop(columns = 'var')\n",
    "print(\"Num of rows after removing all rows with variance less than %.2f: %d \" % (var_treshold, len(brain_matrix)))\n",
    "plt.show()\n",
    "\n",
    "# Group multiple rows by mean\n",
    "brain_matrix = brain_matrix.groupby('GENE_SYMBOL').agg('mean').reset_index()\n",
    "print(\"Num of rows after removing duplicated rows: %d \", len(brain_matrix))"
   ]
  },
  {
   "cell_type": "markdown",
   "metadata": {},
   "source": [
    "#### • Average across different individuals of the same strain (Females and males)"
   ]
  },
  {
   "cell_type": "code",
   "execution_count": 11,
   "metadata": {},
   "outputs": [],
   "source": [
    "liver_matrix = liver_matrix.rename(columns = {col : col.split('_')[0] for col in liver_matrix.drop(columns = ['GENE_SYMBOL'])}) \n",
    "liver_matrix = liver_matrix.set_index(['GENE_SYMBOL']) \n",
    "liver_matrix = liver_matrix.groupby(by=liver_matrix.columns, axis=1).mean()\n",
    "liver_matrix = liver_matrix.reset_index()\n",
    "\n",
    "brain_matrix = brain_matrix.rename(columns = {col : col.split('_')[0] for col in brain_matrix.drop(columns = ['GENE_SYMBOL'])}) \n",
    "brain_matrix = brain_matrix.set_index(['GENE_SYMBOL']) \n",
    "brain_matrix = brain_matrix.groupby(by=brain_matrix.columns, axis=1).mean()\n",
    "brain_matrix = brain_matrix.reset_index()"
   ]
  },
  {
   "cell_type": "markdown",
   "metadata": {},
   "source": [
    "## Part 3: eQTL analysis"
   ]
  },
  {
   "cell_type": "markdown",
   "metadata": {},
   "source": [
    "#### Run  Regression"
   ]
  },
  {
   "cell_type": "code",
   "execution_count": 12,
   "metadata": {},
   "outputs": [
    {
     "name": "stdout",
     "output_type": "stream",
     "text": [
      "Liver: \n",
      "* Expression matrix size: 1285\n",
      "* Genotype matrix size: 1403\n",
      "* Expected num of tests: 1,802,855\n",
      "\n",
      "Brain: \n",
      "* Expression matrix size: 1247\n",
      "* Genotype matrix size: 1598\n",
      "* Expected num of tests: 1,992,706\n",
      "\n"
     ]
    }
   ],
   "source": [
    "print_dim(len(liver_matrix), len(liver_genotypes), title=\"Liver: \")\n",
    "print_dim(len(brain_matrix), len(brain_genotypes), title=\"Brain: \")"
   ]
  },
  {
   "cell_type": "code",
   "execution_count": 13,
   "metadata": {
    "scrolled": true
   },
   "outputs": [],
   "source": [
    "# Brain eqtl\n",
    "if not os.path.exists(\"output/brain_reg_results.csv\"):\n",
    "    brain_eqtls = eqtl_analysis(brain_matrix, brain_genotypes, file_prefix=\"brain_\")\n",
    "else:\n",
    "    brain_eqtls = pd.read_csv(\"output/brain_reg_results.csv\")\n",
    "    brain_eqtls = brain_eqtls.drop(columns='Unnamed: 0')\n",
    "    \n",
    "# Liver eqtl\n",
    "if not os.path.exists(\"output/liver_reg_results.csv\"):\n",
    "    liver_eqtls = eqtl_analysis(liver_matrix, liver_genotypes, file_prefix=\"liver_\")\n",
    "else:\n",
    "    liver_eqtls = pd.read_csv(\"output/liver_reg_results.csv\")\n",
    "    liver_eqtls = liver_eqtls.drop(columns='Unnamed: 0')"
   ]
  },
  {
   "cell_type": "markdown",
   "metadata": {},
   "source": [
    "#### Cis/Trans annotation"
   ]
  },
  {
   "cell_type": "code",
   "execution_count": 14,
   "metadata": {},
   "outputs": [
    {
     "name": "stderr",
     "output_type": "stream",
     "text": [
      "100%|██████████████████████████████████████████████████████████████████████████████| 1247/1247 [12:34<00:00,  1.65it/s]\n",
      "100%|██████████████████████████████████████████████████████████████████████████████| 1285/1285 [12:15<00:00,  1.75it/s]\n"
     ]
    }
   ],
   "source": [
    "brain_eqtls = cis_trans_annotation(brain_eqtls.copy(), mgi)\n",
    "liver_eqtls = cis_trans_annotation(liver_eqtls.copy(), mgi)"
   ]
  },
  {
   "cell_type": "markdown",
   "metadata": {},
   "source": [
    "#### Multiple test correction and associations filtering"
   ]
  },
  {
   "cell_type": "code",
   "execution_count": 15,
   "metadata": {},
   "outputs": [
    {
     "name": "stdout",
     "output_type": "stream",
     "text": [
      "\u001b[1m1. Brain\u001b[0m\n",
      "\u001b[1mNumber of tests: \u001b[0m 1992706\n",
      "alpha after correction:  2.509150873234687e-08\n",
      "\n",
      "\u001b[1mNumber of different significant eQTLs: \u001b[0m 472\n",
      "260 - unique cis-acting \n",
      " 231 - unique trans-acting \n",
      "\n",
      "\u001b[1mNumber of total significant eQTLs: \u001b[0m 868\n",
      "From which: \n",
      " 349 - cis-acting \n",
      " 337 - trans-acting \n",
      " 182 - Unknowns\n",
      "\u001b[1m\n",
      "\n",
      "2. Liver\u001b[0m\n",
      "\u001b[1mNumber of tests: \u001b[0m 1802855\n",
      "alpha after correction:  2.7733788907039114e-08\n",
      "\n",
      "\u001b[1mNumber of different significant eQTLs: \u001b[0m 481\n",
      "261 - unique cis-acting \n",
      " 278 - unique trans-acting \n",
      "\n",
      "\u001b[1mNumber of total significant eQTLs: \u001b[0m 840\n",
      "From which: \n",
      " 325 - cis-acting \n",
      " 468 - trans-acting \n",
      " 47 - Unknowns\n"
     ]
    }
   ],
   "source": [
    "brain_associations, brain_num_tests, brain_alpha = get_associations(brain_eqtls) # by bonfferoni corrections\n",
    "brain_assoc_snps = list(brain_associations['SNP'].unique())\n",
    "brain_associations.to_csv(\"output/brain_assoc_eqtl.csv\")\n",
    "\n",
    "liver_associations, liver_num_tests, liver_alpha = get_associations(liver_eqtls) # by bonfferoni corrections\n",
    "liver_assoc_snps = list(liver_associations['SNP'].unique())\n",
    "liver_associations.to_csv(\"output/liver_assoc_eqtl.csv\")\n",
    "\n",
    "print_stats(brain_associations, brain_num_tests, brain_alpha, \"1. Brain\")\n",
    "print_stats(liver_associations, liver_num_tests, liver_alpha, \"\\n\\n2. Liver\")"
   ]
  },
  {
   "cell_type": "markdown",
   "metadata": {},
   "source": [
    "#### Brain Plots"
   ]
  },
  {
   "cell_type": "code",
   "execution_count": 16,
   "metadata": {},
   "outputs": [
    {
     "data": {
      "image/png": "[encoded data removed]",
      "text/plain": [
       "<Figure size 1152x360 with 1 Axes>"
      ]
     },
     "metadata": {
      "needs_background": "light"
     },
     "output_type": "display_data"
    },
    {
     "data": {
      "text/html": [
       "<div>\n",
       "<style scoped>\n",
       "    .dataframe tbody tr th:only-of-type {\n",
       "        vertical-align: middle;\n",
       "    }\n",
       "\n",
       "    .dataframe tbody tr th {\n",
       "        vertical-align: top;\n",
       "    }\n",
       "\n",
       "    .dataframe thead th {\n",
       "        text-align: right;\n",
       "    }\n",
       "</style>\n",
       "<table border=\"1\" class=\"dataframe\">\n",
       "  <thead>\n",
       "    <tr style=\"text-align: right;\">\n",
       "      <th></th>\n",
       "      <th>Locus</th>\n",
       "      <th>chromosome</th>\n",
       "      <th>num_genes</th>\n",
       "      <th>index</th>\n",
       "    </tr>\n",
       "  </thead>\n",
       "  <tbody>\n",
       "    <tr>\n",
       "      <th>1357</th>\n",
       "      <td>CEL-17_21879142</td>\n",
       "      <td>17</td>\n",
       "      <td>10.0</td>\n",
       "      <td>1357</td>\n",
       "    </tr>\n",
       "  </tbody>\n",
       "</table>\n",
       "</div>"
      ],
      "text/plain": [
       "                Locus  chromosome  num_genes  index\n",
       "1357  CEL-17_21879142          17       10.0   1357"
      ]
     },
     "execution_count": 16,
     "metadata": {},
     "output_type": "execute_result"
    }
   ],
   "source": [
    "brain_gene_cnt = plot_associated_genes_per_eqtl(brain_associations, brain_genotypes, tissue_str=\"Hypothalamus - \")\n",
    "brain_gene_cnt[brain_gene_cnt['num_genes']>8]"
   ]
  },
  {
   "cell_type": "code",
   "execution_count": 17,
   "metadata": {},
   "outputs": [
    {
     "data": {
      "image/png": "[encoded data removed]",
      "text/plain": [
       "<Figure size 432x288 with 1 Axes>"
      ]
     },
     "metadata": {},
     "output_type": "display_data"
    }
   ],
   "source": [
    "plot_association_pval_dist(brain_associations)"
   ]
  },
  {
   "cell_type": "code",
   "execution_count": null,
   "metadata": {},
   "outputs": [],
   "source": [
    "plot_summary_visualization(brain_eqtls, mgi, treshold=brain_alpha, tissue_str=\"Brain - \")\n",
    "plot_summary_visualization(brain_eqtls, mgi, treshold=0.001, tissue_str=\"Brain - \")"
   ]
  },
  {
   "cell_type": "markdown",
   "metadata": {},
   "source": [
    "#### Liver Plots"
   ]
  },
  {
   "cell_type": "code",
   "execution_count": null,
   "metadata": {},
   "outputs": [],
   "source": [
    "liver_gene_cnt = plot_associated_genes_per_eqtl(liver_associations, liver_genotypes, tissue_str=\"Liver - \")\n",
    "liver_gene_cnt[liver_gene_cnt['num_genes']>0]"
   ]
  },
  {
   "cell_type": "code",
   "execution_count": null,
   "metadata": {},
   "outputs": [],
   "source": [
    "plot_association_pval_dist(liver_associations)"
   ]
  },
  {
   "cell_type": "code",
   "execution_count": null,
   "metadata": {},
   "outputs": [],
   "source": [
    "plot_summary_visualization(liver_eqtls, mgi, treshold=brain_alpha, tissue_str=\"Liver - \")\n",
    "plot_summary_visualization(liver_eqtls, mgi, treshold=0.001, tissue_str=\"Liver - \")"
   ]
  },
  {
   "cell_type": "markdown",
   "metadata": {},
   "source": [
    "### Part 4: QTL analysis"
   ]
  },
  {
   "cell_type": "code",
   "execution_count": null,
   "metadata": {},
   "outputs": [],
   "source": [
    "phenotype_subset_brain = brain_phenotypes[brain_phenotypes['Phenotype'].str.contains(\"TNF\")]\n",
    "phenotype_subset_liver = liver_phenotypes[liver_phenotypes['Phenotype'].str.contains(\"TNF\")]\n",
    "print(\"The selected phenotypes are:\\n\", phenotype_subset_brain['Phenotype'].unique())"
   ]
  },
  {
   "cell_type": "code",
   "execution_count": null,
   "metadata": {},
   "outputs": [],
   "source": [
    "logpval_brain = qtl_analysis(phenotype_subset_brain, brain_genotypes, file_prefix=\"brain_\")\n",
    "logpval_liver = qtl_analysis(phenotype_subset_liver, liver_genotypes, file_prefix=\"liver_\")"
   ]
  },
  {
   "cell_type": "code",
   "execution_count": null,
   "metadata": {},
   "outputs": [],
   "source": [
    "assoc_qtl_b, ntests_qtl_b, alpha_b = get_associations(logpval_brain) # by bonfferoni corrections\n",
    "assoc_qtl_l, ntests_qtl_l, alpha_l = get_associations(logpval_liver) # by bonfferoni corrections"
   ]
  },
  {
   "cell_type": "code",
   "execution_count": null,
   "metadata": {},
   "outputs": [],
   "source": [
    "# brain_genotypes[brain_genotypes['Locus'] == 'rs6302966'].to_excel(\"rs6302966.xlsx\")\n",
    "SNPS_weird = list(assoc_qtl_b['SNP'].unique())\n",
    "brain_genotypes[brain_genotypes['Locus'].isin(SNPS_weird)].to_excel(\"snps_brain.xlsx\")"
   ]
  },
  {
   "cell_type": "code",
   "execution_count": null,
   "metadata": {},
   "outputs": [],
   "source": [
    "brain_phenotypes.loc[[372]].to_excel(\"pheno.xlsx\")"
   ]
  },
  {
   "cell_type": "markdown",
   "metadata": {},
   "source": [
    "### Part 6: Causality Test"
   ]
  },
  {
   "cell_type": "code",
   "execution_count": null,
   "metadata": {},
   "outputs": [],
   "source": [
    "# Choose a triplet L, R, C for the causality analysis\n",
    "locus_idx = 2617      \n",
    "gene_exp_idx = 546 \n",
    "phenotype_idx = 371\n",
    "\n",
    "locus = liver_genotypes.loc[[locus_idx]].replace({'B': 0, 'b': 0, 'D':1, 'H': np.nan, 'U': np.nan})[liver_common_bxd]\n",
    "gene_exp = liver_matrix.loc[[gene_exp_idx]][liver_common_bxd]\n",
    "phenotype = liver_phenotypes.loc[[phenotype_idx]][liver_common_bxd]\n",
    "\n",
    "print(\"Selected triplet for causality analysis:\\n1. Locus (L): %s\\n2. Gene expression (R): %s\\n3. Phenotype (C): %s\"\n",
    "     % (liver_genotypes.loc[locus_idx]['Locus'],\n",
    "        liver_matrix.loc[gene_exp_idx]['GENE_SYMBOL'],\n",
    "        liver_phenotypes.loc[phenotype_idx]['Phenotype']))\n",
    "\n",
    "# Create input table \n",
    "input_table = pd.concat([locus, gene_exp, phenotype]) # concate data types\n",
    "input_table = input_table.T.reset_index()             # transpose\n",
    "input_table.columns = ['Individual', 'L', 'R', 'C']\n",
    "input_table = input_table.dropna()                    # ignore nulls\n",
    "input_table = input_table.sort_values(by='L')         # sort by lucus (genotype 0 or 2)"
   ]
  },
  {
   "cell_type": "code",
   "execution_count": null,
   "metadata": {},
   "outputs": [],
   "source": [
    "m1_df, m2_df, m3_df = generate_models_df(input_table)\n",
    "m1_df.head(5)"
   ]
  },
  {
   "cell_type": "markdown",
   "metadata": {},
   "source": [
    "### Calculate The Models Likelihood and Likelihood Ratio:\n",
    "\n",
    "Likelihood = L(θ;M) = p(data|θm)"
   ]
  },
  {
   "cell_type": "code",
   "execution_count": null,
   "metadata": {},
   "outputs": [],
   "source": [
    "LR, best_model = get_LR(m1_df, m2_df, m3_df)\n",
    "print(\"The best model is: M\", best_model)\n",
    "print(\"The Likelihood-Ratio is: %.2f\" % LR)"
   ]
  },
  {
   "cell_type": "markdown",
   "metadata": {},
   "source": [
    "### Statistical estimation"
   ]
  },
  {
   "cell_type": "code",
   "execution_count": null,
   "metadata": {},
   "outputs": [],
   "source": [
    "n_tests = 100\n",
    "LR_dist = []\n",
    "model_dist = []\n",
    "for i in range(0,n_tests):\n",
    "    shuffled_df = get_shuffled_df(input_table.copy())\n",
    "    m1_df, m2_df, m3_df = generate_models_df(shuffled_df)\n",
    "    LR_i, M_i = get_LR(m1_df, m2_df, m3_df)\n",
    "    LR_dist.append(LR_i)\n",
    "    model_dist.append(M_i)\n",
    "    \n",
    "sns.kdeplot(LR_dist, shade=True).set_title('LR Distribution Permutations Based')\n",
    "plt.show()\n",
    "sns.distplot(model_dist, bins = 5, color='purple', kde=False, hist=True).set_title('Best Models Distribution Permutations Based')\n",
    "plt.xticks([])"
   ]
  },
  {
   "cell_type": "code",
   "execution_count": null,
   "metadata": {},
   "outputs": [],
   "source": [
    "greater_values = len([x for x in LR_dist if x > LR])\n",
    "print(\"The are %d LR values that are greater than our LR\" % greater_values)\n",
    "pval = (greater_values+1)/100\n",
    "if pval <= 0.05:\n",
    "    print(\"Our LR is significant with p-value of \", pval)\n",
    "else:\n",
    "    print(\"Our LR is not significant. p-value=\", pval)"
   ]
  }
 ],
 "metadata": {
  "kernelspec": {
   "display_name": "Python 3",
   "language": "python",
   "name": "python3"
  },
  "language_info": {
   "codemirror_mode": {
    "name": "ipython",
    "version": 3
   },
   "file_extension": ".py",
   "mimetype": "text/x-python",
   "name": "python",
   "nbconvert_exporter": "python",
   "pygments_lexer": "ipython3",
   "version": "3.7.7"
  }
 },
 "nbformat": 4,
 "nbformat_minor": 4
}
