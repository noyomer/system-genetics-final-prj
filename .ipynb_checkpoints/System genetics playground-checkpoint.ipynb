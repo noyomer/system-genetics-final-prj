{
 "cells": [
  {
   "cell_type": "markdown",
   "metadata": {},
   "source": [
    "# Systems genetics 2020\n",
    "## Final Project  "
   ]
  },
  {
   "cell_type": "code",
   "execution_count": 1,
   "metadata": {},
   "outputs": [],
   "source": [
    "import pandas as pd\n",
    "import numpy as np\n",
    "import warnings\n",
    "warnings.filterwarnings('ignore')"
   ]
  },
  {
   "cell_type": "markdown",
   "metadata": {},
   "source": [
    "Load data files"
   ]
  },
  {
   "cell_type": "code",
   "execution_count": 2,
   "metadata": {},
   "outputs": [],
   "source": [
    "liver_exp = pd.read_csv('data/GSE17522_series_matrix_liver.txt', sep = \"\\t\")\n",
    "brain_exp = pd.read_csv('data/GSE36674_series_matrix_hypothalamus.txt', sep = \"\\t\")\n",
    "\n",
    "liver_annotations = pd.read_csv('data/annotations_liver_GPL6466-9752.txt', sep = \"\\t\")\n",
    "brain_annotations = pd.read_csv('data/annotation_brain.annot', sep = \"\\t\")\n",
    "\n",
    "genotypes = pd.read_excel('data/genotypes.xls', headers=None)\n",
    "phenotypes = pd.read_excel('data/phenotypes.xls')\n",
    "\n",
    "mgi = pd.read_csv('data/MGI_Coordinates.Build37.rpt.txt', sep = \"\\t\", error_bad_lines=False, warn_bad_lines=False)"
   ]
  },
  {
   "cell_type": "markdown",
   "metadata": {},
   "source": [
    "### 2. Gene expression data preprocessing"
   ]
  },
  {
   "cell_type": "markdown",
   "metadata": {},
   "source": [
    "#### • Make sure that the data is normalized"
   ]
  },
  {
   "cell_type": "code",
   "execution_count": 3,
   "metadata": {
    "scrolled": false
   },
   "outputs": [
    {
     "data": {
      "text/plain": [
       "'Data were extracted from the scanned image using Agilent Feature Extraction software version 6.1. A total of 122 arrays were run in 8 batches. The samples were semirandomly distributed throughout the batches prior to microarray analysis in order to separate sexes and strains, and to minimize between- and within- batch bias. Technical and biological replicates were run both within each batch and between batches. The microarray data was deposited in the UNC Microarray Database and extracted using Log2 ratios of the mean red channel intensity over the mean green channel intensity. This was followed by LOWESS normalization to remove the intensity dependent dye bias3. Neither the genes nor the arrays were centered. Inter-batch normalization was carried out using a nested ANOVA mixed model with samples within each batch crossed with sex and strain.'"
      ]
     },
     "execution_count": 3,
     "metadata": {},
     "output_type": "execute_result"
    }
   ],
   "source": [
    "liver_exp[liver_exp['!Sample_title'] == '!Sample_data_processing']['Liver_C57BL6J_M_B1_rep1'].iloc[0]"
   ]
  },
  {
   "cell_type": "code",
   "execution_count": 4,
   "metadata": {
    "scrolled": true
   },
   "outputs": [
    {
     "data": {
      "text/plain": [
       "'Probe intensity values were extracted using the Affymetrix GeneChip Operating Software and RMA normalized'"
      ]
     },
     "execution_count": 4,
     "metadata": {},
     "output_type": "execute_result"
    }
   ],
   "source": [
    "brain_exp[brain_exp['!Sample_title'] == '!Sample_data_processing']['BXD44_F'].iloc[0]"
   ]
  },
  {
   "cell_type": "markdown",
   "metadata": {},
   "source": [
    "#### • Merge data file with annotation file to get your input matrix"
   ]
  },
  {
   "cell_type": "code",
   "execution_count": 5,
   "metadata": {},
   "outputs": [],
   "source": [
    "def data_annotations_merge(df_exp, df_annotations):\n",
    "    \"\"\" Merge gene expression dataframe with annotations file \"\"\"\n",
    "    \n",
    "    # Remove metadata rows to get the raw data only\n",
    "    df_exp = df_exp[~df_exp['!Sample_title'].str.contains('!Sample_', na=False)]\n",
    "    df_exp = df_exp[~df_exp['!Sample_title'].str.contains('!series_', na=False)]\n",
    "    df_exp = df_exp[df_exp['!Sample_title'] != 'ID_REF']\n",
    "\n",
    "    # Rename ID column to match the annotation matrix\n",
    "    df_exp = df_exp.rename(columns = {'!Sample_title' : 'ID'})\n",
    "\n",
    "    # Merge with annotation matrix to get the gene identifier (gene symbol)\n",
    "    df_annotations = df_annotations[['ID', 'GENE_SYMBOL']]\n",
    "    input_matrix = df_annotations.merge(df_exp, left_on='ID', right_on='ID')\n",
    "    \n",
    "    return input_matrix  "
   ]
  },
  {
   "cell_type": "markdown",
   "metadata": {},
   "source": [
    "Brain"
   ]
  },
  {
   "cell_type": "code",
   "execution_count": 6,
   "metadata": {},
   "outputs": [],
   "source": [
    "brain_annotations = brain_annotations.rename(columns={'Gene symbol' : 'GENE_SYMBOL'})\n",
    "brain_matrix = data_annotations_merge(brain_exp, brain_annotations)"
   ]
  },
  {
   "cell_type": "markdown",
   "metadata": {},
   "source": [
    "Liver"
   ]
  },
  {
   "cell_type": "code",
   "execution_count": 7,
   "metadata": {},
   "outputs": [],
   "source": [
    "liver_matrix = data_annotations_merge(liver_exp, liver_annotations)\n",
    "\n",
    "# Keep BXD columns and identifier columns only\n",
    "liver_bxd_cols = list(liver_matrix.filter(regex=(\"BXD*\")).columns)\n",
    "id_cols = ['ID', 'GENE_SYMBOL']\n",
    "liver_matrix = liver_matrix[id_cols + liver_bxd_cols]\n",
    "\n",
    "# Rename BXD columns\n",
    "liver_matrix = liver_matrix.rename(columns={col : col.split('_')[1] + '_' + col.split('_')[2] \\\n",
    "                                            for col in liver_matrix.columns.drop(id_cols)})"
   ]
  },
  {
   "cell_type": "markdown",
   "metadata": {},
   "source": [
    "#### • Remove rows with no gene identifier, <br> • Remove rows with low maximal value.  <br> • Remove rows with low variance.  <br> • Average multiple rows\n"
   ]
  },
  {
   "cell_type": "code",
   "execution_count": 8,
   "metadata": {
    "scrolled": false
   },
   "outputs": [
    {
     "name": "stdout",
     "output_type": "stream",
     "text": [
      "Num of rows after removing all rows with maximal values less than 0.70: 7790 \n",
      "Num of rows after removing all rows with variance less than 0.20: 1310 \n",
      "Num of rows after removing duplicated rows: %d  1288\n"
     ]
    }
   ],
   "source": [
    "max_treshold = 0.7\n",
    "var_treshold = 0.2\n",
    "\n",
    "# Remove rows with no gene identifier\n",
    "liver_matrix = liver_matrix[~liver_matrix['GENE_SYMBOL'].isna()]\n",
    "liver_bxd_cols = list(liver_matrix.filter(regex=(\"BXD*\")).columns)\n",
    "\n",
    "for col in liver_bxd_cols:\n",
    "    liver_matrix[col] = liver_matrix[col].astype('float64')\n",
    "\n",
    "# Filter by maximal value\n",
    "liver_matrix['max'] = liver_matrix.drop(columns=['ID', 'GENE_SYMBOL']).max(axis=1)\n",
    "liver_matrix = liver_matrix[liver_matrix['max'] >= max_treshold]\n",
    "liver_matrix = liver_matrix.drop(columns = 'max')\n",
    "print(\"Num of rows after removing all rows with maximal values less than %.2f: %d \" % (max_treshold, len(liver_matrix)))\n",
    "\n",
    "# Filter by variance\n",
    "liver_matrix['var'] = liver_matrix.drop(columns=['ID', 'GENE_SYMBOL']).var(axis=1)\n",
    "liver_matrix = liver_matrix[liver_matrix['var'] >= var_treshold]\n",
    "liver_matrix = liver_matrix.drop(columns = 'var')\n",
    "print(\"Num of rows after removing all rows with variance less than %.2f: %d \" % (var_treshold, len(liver_matrix)))\n",
    "\n",
    "# Group multiple rows by mean\n",
    "liver_matrix = liver_matrix.groupby('GENE_SYMBOL').agg('mean').reset_index()\n",
    "print(\"Num of rows after removing duplicated rows: %d \", len(liver_matrix))"
   ]
  },
  {
   "cell_type": "code",
   "execution_count": 9,
   "metadata": {},
   "outputs": [
    {
     "name": "stdout",
     "output_type": "stream",
     "text": [
      "Num of rows after removing all rows with maximal values less than 9.00: 9899 \n",
      "Num of rows after removing all rows with variance less than 0.03: 2069 \n",
      "Num of rows after removing duplicated rows: %d  1792\n"
     ]
    }
   ],
   "source": [
    "max_treshold = 9\n",
    "var_treshold = 0.03\n",
    "\n",
    "# Remove rows with no gene identifier\n",
    "brain_matrix = brain_matrix[~brain_matrix['GENE_SYMBOL'].isna()]\n",
    "brain_bxd_cols = list(brain_matrix.filter(regex=(\"BXD*\")).columns)\n",
    "\n",
    "for col in brain_bxd_cols:\n",
    "    brain_matrix[col] = brain_matrix[col].astype('float64')\n",
    "\n",
    "# Filter by maximal value\n",
    "brain_matrix['max'] = brain_matrix.drop(columns=['ID', 'GENE_SYMBOL']).max(axis=1)\n",
    "brain_matrix = brain_matrix[brain_matrix['max'] >= max_treshold]\n",
    "brain_matrix = brain_matrix.drop(columns = 'max')\n",
    "print(\"Num of rows after removing all rows with maximal values less than %.2f: %d \" % (max_treshold, len(brain_matrix)))\n",
    "\n",
    "# Filter by variance\n",
    "brain_matrix['var'] = brain_matrix.drop(columns=['ID', 'GENE_SYMBOL']).var(axis=1)\n",
    "brain_matrix = brain_matrix[brain_matrix['var'] >= var_treshold]\n",
    "brain_matrix = brain_matrix.drop(columns = 'var')\n",
    "print(\"Num of rows after removing all rows with variance less than %.2f: %d \" % (var_treshold, len(brain_matrix)))\n",
    "\n",
    "# Group multiple rows by mean\n",
    "brain_matrix = brain_matrix.groupby('GENE_SYMBOL').agg('mean').reset_index()\n",
    "print(\"Num of rows after removing duplicated rows: %d \", len(brain_matrix))"
   ]
  },
  {
   "cell_type": "markdown",
   "metadata": {},
   "source": [
    "#### • Average across different individuals of the same strain (Females and males)"
   ]
  },
  {
   "cell_type": "code",
   "execution_count": 10,
   "metadata": {},
   "outputs": [
    {
     "data": {
      "text/html": [
       "<div>\n",
       "<style scoped>\n",
       "    .dataframe tbody tr th:only-of-type {\n",
       "        vertical-align: middle;\n",
       "    }\n",
       "\n",
       "    .dataframe tbody tr th {\n",
       "        vertical-align: top;\n",
       "    }\n",
       "\n",
       "    .dataframe thead th {\n",
       "        text-align: right;\n",
       "    }\n",
       "</style>\n",
       "<table border=\"1\" class=\"dataframe\">\n",
       "  <thead>\n",
       "    <tr style=\"text-align: right;\">\n",
       "      <th></th>\n",
       "      <th>GENE_SYMBOL</th>\n",
       "      <th>BXD8</th>\n",
       "      <th>BXD43</th>\n",
       "      <th>BXD23</th>\n",
       "      <th>BXD40</th>\n",
       "      <th>BXD14</th>\n",
       "      <th>BXD33</th>\n",
       "      <th>BXD42</th>\n",
       "      <th>BXD32</th>\n",
       "      <th>BXD16</th>\n",
       "      <th>...</th>\n",
       "      <th>BXD44</th>\n",
       "      <th>BXD73</th>\n",
       "      <th>BXD15</th>\n",
       "      <th>BXD5</th>\n",
       "      <th>BXD28</th>\n",
       "      <th>BXD29</th>\n",
       "      <th>BXD77</th>\n",
       "      <th>BXD12</th>\n",
       "      <th>BXD60</th>\n",
       "      <th>BXD19</th>\n",
       "    </tr>\n",
       "  </thead>\n",
       "  <tbody>\n",
       "    <tr>\n",
       "      <th>0</th>\n",
       "      <td>0610010K14Rik</td>\n",
       "      <td>1.5065</td>\n",
       "      <td>0.5045</td>\n",
       "      <td>0.4035</td>\n",
       "      <td>0.9180</td>\n",
       "      <td>0.3270</td>\n",
       "      <td>0.7580</td>\n",
       "      <td>0.7685</td>\n",
       "      <td>0.9875</td>\n",
       "      <td>1.0265</td>\n",
       "      <td>...</td>\n",
       "      <td>0.6915</td>\n",
       "      <td>0.3070</td>\n",
       "      <td>0.6440</td>\n",
       "      <td>0.4025</td>\n",
       "      <td>0.5620</td>\n",
       "      <td>0.7515</td>\n",
       "      <td>0.9560</td>\n",
       "      <td>0.3040</td>\n",
       "      <td>0.7985</td>\n",
       "      <td>1.2945</td>\n",
       "    </tr>\n",
       "    <tr>\n",
       "      <th>1</th>\n",
       "      <td>0610012H03Rik</td>\n",
       "      <td>0.3890</td>\n",
       "      <td>-0.7505</td>\n",
       "      <td>-0.7670</td>\n",
       "      <td>0.0080</td>\n",
       "      <td>-0.4950</td>\n",
       "      <td>0.0535</td>\n",
       "      <td>-0.0915</td>\n",
       "      <td>0.1305</td>\n",
       "      <td>0.1220</td>\n",
       "      <td>...</td>\n",
       "      <td>-0.1620</td>\n",
       "      <td>-0.6050</td>\n",
       "      <td>-0.2175</td>\n",
       "      <td>-0.0580</td>\n",
       "      <td>-0.0135</td>\n",
       "      <td>0.3105</td>\n",
       "      <td>-0.1850</td>\n",
       "      <td>-0.5520</td>\n",
       "      <td>-0.0060</td>\n",
       "      <td>0.4970</td>\n",
       "    </tr>\n",
       "    <tr>\n",
       "      <th>2</th>\n",
       "      <td>100043147</td>\n",
       "      <td>-0.4150</td>\n",
       "      <td>-0.0725</td>\n",
       "      <td>-0.3685</td>\n",
       "      <td>-0.6245</td>\n",
       "      <td>-0.0830</td>\n",
       "      <td>-0.1215</td>\n",
       "      <td>0.0935</td>\n",
       "      <td>-0.4460</td>\n",
       "      <td>-0.2865</td>\n",
       "      <td>...</td>\n",
       "      <td>-0.0525</td>\n",
       "      <td>-0.4255</td>\n",
       "      <td>0.0405</td>\n",
       "      <td>-0.1150</td>\n",
       "      <td>-0.0455</td>\n",
       "      <td>-0.0430</td>\n",
       "      <td>-0.1875</td>\n",
       "      <td>-0.1525</td>\n",
       "      <td>0.0105</td>\n",
       "      <td>-0.5065</td>\n",
       "    </tr>\n",
       "    <tr>\n",
       "      <th>3</th>\n",
       "      <td>1110003O08Rik</td>\n",
       "      <td>-0.6825</td>\n",
       "      <td>-0.6750</td>\n",
       "      <td>-0.0095</td>\n",
       "      <td>-0.5460</td>\n",
       "      <td>0.1710</td>\n",
       "      <td>-0.4605</td>\n",
       "      <td>-0.4325</td>\n",
       "      <td>-0.4465</td>\n",
       "      <td>-0.5155</td>\n",
       "      <td>...</td>\n",
       "      <td>0.7385</td>\n",
       "      <td>0.0260</td>\n",
       "      <td>-0.5340</td>\n",
       "      <td>0.3230</td>\n",
       "      <td>0.2935</td>\n",
       "      <td>-0.6305</td>\n",
       "      <td>-0.6255</td>\n",
       "      <td>0.3205</td>\n",
       "      <td>-0.2795</td>\n",
       "      <td>-0.6550</td>\n",
       "    </tr>\n",
       "    <tr>\n",
       "      <th>4</th>\n",
       "      <td>1110006O24Rik</td>\n",
       "      <td>0.8770</td>\n",
       "      <td>1.4545</td>\n",
       "      <td>0.7595</td>\n",
       "      <td>0.8760</td>\n",
       "      <td>0.4645</td>\n",
       "      <td>0.4900</td>\n",
       "      <td>1.2365</td>\n",
       "      <td>0.9930</td>\n",
       "      <td>0.2105</td>\n",
       "      <td>...</td>\n",
       "      <td>0.8675</td>\n",
       "      <td>0.1940</td>\n",
       "      <td>0.7730</td>\n",
       "      <td>1.5130</td>\n",
       "      <td>0.8000</td>\n",
       "      <td>0.5440</td>\n",
       "      <td>0.6540</td>\n",
       "      <td>0.7980</td>\n",
       "      <td>0.7980</td>\n",
       "      <td>0.5090</td>\n",
       "    </tr>\n",
       "  </tbody>\n",
       "</table>\n",
       "<p>5 rows × 42 columns</p>\n",
       "</div>"
      ],
      "text/plain": [
       "     GENE_SYMBOL    BXD8   BXD43   BXD23   BXD40   BXD14   BXD33   BXD42  \\\n",
       "0  0610010K14Rik  1.5065  0.5045  0.4035  0.9180  0.3270  0.7580  0.7685   \n",
       "1  0610012H03Rik  0.3890 -0.7505 -0.7670  0.0080 -0.4950  0.0535 -0.0915   \n",
       "2      100043147 -0.4150 -0.0725 -0.3685 -0.6245 -0.0830 -0.1215  0.0935   \n",
       "3  1110003O08Rik -0.6825 -0.6750 -0.0095 -0.5460  0.1710 -0.4605 -0.4325   \n",
       "4  1110006O24Rik  0.8770  1.4545  0.7595  0.8760  0.4645  0.4900  1.2365   \n",
       "\n",
       "    BXD32   BXD16  ...   BXD44   BXD73   BXD15    BXD5   BXD28   BXD29  \\\n",
       "0  0.9875  1.0265  ...  0.6915  0.3070  0.6440  0.4025  0.5620  0.7515   \n",
       "1  0.1305  0.1220  ... -0.1620 -0.6050 -0.2175 -0.0580 -0.0135  0.3105   \n",
       "2 -0.4460 -0.2865  ... -0.0525 -0.4255  0.0405 -0.1150 -0.0455 -0.0430   \n",
       "3 -0.4465 -0.5155  ...  0.7385  0.0260 -0.5340  0.3230  0.2935 -0.6305   \n",
       "4  0.9930  0.2105  ...  0.8675  0.1940  0.7730  1.5130  0.8000  0.5440   \n",
       "\n",
       "    BXD77   BXD12   BXD60   BXD19  \n",
       "0  0.9560  0.3040  0.7985  1.2945  \n",
       "1 -0.1850 -0.5520 -0.0060  0.4970  \n",
       "2 -0.1875 -0.1525  0.0105 -0.5065  \n",
       "3 -0.6255  0.3205 -0.2795 -0.6550  \n",
       "4  0.6540  0.7980  0.7980  0.5090  \n",
       "\n",
       "[5 rows x 42 columns]"
      ]
     },
     "execution_count": 10,
     "metadata": {},
     "output_type": "execute_result"
    }
   ],
   "source": [
    "# Drop BXD columns which are not exist in the LPS file (from genotype file)\n",
    "liver_bxd_unique = set()\n",
    "for col in liver_bxd_cols:\n",
    "    bxd_idx = col.split(\"_\")[0]\n",
    "    liver_bxd_unique.add(bxd_idx)\n",
    "    \n",
    "liver_bxd_unique = list(liver_bxd_unique)\n",
    "\n",
    "# Average across different individuals of the same strain\n",
    "for col in liver_bxd_unique:\n",
    "    individuals_cols = list(liver_matrix.filter(regex=(col + '_')).columns)\n",
    "    liver_matrix[col] = liver_matrix[individuals_cols].astype(float).mean(axis=1)\n",
    "\n",
    "liver_matrix = liver_matrix.drop(columns=liver_bxd_cols)\n",
    "liver_matrix.head(5)"
   ]
  },
  {
   "cell_type": "code",
   "execution_count": 11,
   "metadata": {},
   "outputs": [
    {
     "data": {
      "text/html": [
       "<div>\n",
       "<style scoped>\n",
       "    .dataframe tbody tr th:only-of-type {\n",
       "        vertical-align: middle;\n",
       "    }\n",
       "\n",
       "    .dataframe tbody tr th {\n",
       "        vertical-align: top;\n",
       "    }\n",
       "\n",
       "    .dataframe thead th {\n",
       "        text-align: right;\n",
       "    }\n",
       "</style>\n",
       "<table border=\"1\" class=\"dataframe\">\n",
       "  <thead>\n",
       "    <tr style=\"text-align: right;\">\n",
       "      <th></th>\n",
       "      <th>GENE_SYMBOL</th>\n",
       "      <th>BXD70</th>\n",
       "      <th>BXD27</th>\n",
       "      <th>BXD56</th>\n",
       "      <th>BXD43</th>\n",
       "      <th>BXD80</th>\n",
       "      <th>BXD92A</th>\n",
       "      <th>BXD75</th>\n",
       "      <th>BXD71</th>\n",
       "      <th>BXD40</th>\n",
       "      <th>...</th>\n",
       "      <th>BXD44</th>\n",
       "      <th>BXD73</th>\n",
       "      <th>BXD29</th>\n",
       "      <th>BXD103</th>\n",
       "      <th>BXD12</th>\n",
       "      <th>BXD83</th>\n",
       "      <th>BXD89</th>\n",
       "      <th>BXD60</th>\n",
       "      <th>BXD87</th>\n",
       "      <th>BXD102</th>\n",
       "    </tr>\n",
       "  </thead>\n",
       "  <tbody>\n",
       "    <tr>\n",
       "      <th>0</th>\n",
       "      <td>0610010K14Rik///0610010K14Rik</td>\n",
       "      <td>9.9900</td>\n",
       "      <td>9.9990</td>\n",
       "      <td>9.7745</td>\n",
       "      <td>9.805</td>\n",
       "      <td>9.5720</td>\n",
       "      <td>9.6865</td>\n",
       "      <td>9.9070</td>\n",
       "      <td>9.8760</td>\n",
       "      <td>9.6980</td>\n",
       "      <td>...</td>\n",
       "      <td>9.9520</td>\n",
       "      <td>9.7960</td>\n",
       "      <td>9.5015</td>\n",
       "      <td>9.8585</td>\n",
       "      <td>9.703</td>\n",
       "      <td>9.5980</td>\n",
       "      <td>9.7130</td>\n",
       "      <td>9.7220</td>\n",
       "      <td>10.0685</td>\n",
       "      <td>10.072</td>\n",
       "    </tr>\n",
       "    <tr>\n",
       "      <th>1</th>\n",
       "      <td>0610012G03Rik</td>\n",
       "      <td>9.5820</td>\n",
       "      <td>9.7345</td>\n",
       "      <td>9.7195</td>\n",
       "      <td>9.958</td>\n",
       "      <td>9.8810</td>\n",
       "      <td>9.7070</td>\n",
       "      <td>9.5755</td>\n",
       "      <td>9.6915</td>\n",
       "      <td>9.7280</td>\n",
       "      <td>...</td>\n",
       "      <td>9.7785</td>\n",
       "      <td>9.7145</td>\n",
       "      <td>9.5925</td>\n",
       "      <td>9.8305</td>\n",
       "      <td>9.592</td>\n",
       "      <td>9.4545</td>\n",
       "      <td>9.7735</td>\n",
       "      <td>9.8260</td>\n",
       "      <td>9.6745</td>\n",
       "      <td>9.851</td>\n",
       "    </tr>\n",
       "    <tr>\n",
       "      <th>2</th>\n",
       "      <td>1110008P14Rik</td>\n",
       "      <td>8.8995</td>\n",
       "      <td>9.0990</td>\n",
       "      <td>8.8690</td>\n",
       "      <td>9.328</td>\n",
       "      <td>9.1575</td>\n",
       "      <td>8.9280</td>\n",
       "      <td>9.0025</td>\n",
       "      <td>9.0405</td>\n",
       "      <td>9.0145</td>\n",
       "      <td>...</td>\n",
       "      <td>9.2085</td>\n",
       "      <td>9.0000</td>\n",
       "      <td>8.9055</td>\n",
       "      <td>9.0850</td>\n",
       "      <td>8.637</td>\n",
       "      <td>8.7330</td>\n",
       "      <td>8.8845</td>\n",
       "      <td>9.1270</td>\n",
       "      <td>9.0450</td>\n",
       "      <td>9.206</td>\n",
       "    </tr>\n",
       "    <tr>\n",
       "      <th>3</th>\n",
       "      <td>1110012L19Rik</td>\n",
       "      <td>8.7680</td>\n",
       "      <td>8.8070</td>\n",
       "      <td>8.8710</td>\n",
       "      <td>9.479</td>\n",
       "      <td>9.3385</td>\n",
       "      <td>8.9520</td>\n",
       "      <td>8.8980</td>\n",
       "      <td>8.6895</td>\n",
       "      <td>9.0385</td>\n",
       "      <td>...</td>\n",
       "      <td>8.9370</td>\n",
       "      <td>9.0625</td>\n",
       "      <td>8.8070</td>\n",
       "      <td>9.1010</td>\n",
       "      <td>8.947</td>\n",
       "      <td>8.7905</td>\n",
       "      <td>8.8075</td>\n",
       "      <td>9.2555</td>\n",
       "      <td>8.8065</td>\n",
       "      <td>9.064</td>\n",
       "    </tr>\n",
       "    <tr>\n",
       "      <th>4</th>\n",
       "      <td>1110059E24Rik</td>\n",
       "      <td>8.9040</td>\n",
       "      <td>9.0695</td>\n",
       "      <td>8.9055</td>\n",
       "      <td>9.314</td>\n",
       "      <td>9.0620</td>\n",
       "      <td>8.9110</td>\n",
       "      <td>8.8345</td>\n",
       "      <td>8.9885</td>\n",
       "      <td>8.9425</td>\n",
       "      <td>...</td>\n",
       "      <td>9.0840</td>\n",
       "      <td>8.9585</td>\n",
       "      <td>8.7730</td>\n",
       "      <td>9.0900</td>\n",
       "      <td>8.838</td>\n",
       "      <td>8.6490</td>\n",
       "      <td>9.1020</td>\n",
       "      <td>9.1290</td>\n",
       "      <td>8.8795</td>\n",
       "      <td>9.010</td>\n",
       "    </tr>\n",
       "  </tbody>\n",
       "</table>\n",
       "<p>5 rows × 47 columns</p>\n",
       "</div>"
      ],
      "text/plain": [
       "                     GENE_SYMBOL   BXD70   BXD27   BXD56  BXD43   BXD80  \\\n",
       "0  0610010K14Rik///0610010K14Rik  9.9900  9.9990  9.7745  9.805  9.5720   \n",
       "1                  0610012G03Rik  9.5820  9.7345  9.7195  9.958  9.8810   \n",
       "2                  1110008P14Rik  8.8995  9.0990  8.8690  9.328  9.1575   \n",
       "3                  1110012L19Rik  8.7680  8.8070  8.8710  9.479  9.3385   \n",
       "4                  1110059E24Rik  8.9040  9.0695  8.9055  9.314  9.0620   \n",
       "\n",
       "   BXD92A   BXD75   BXD71   BXD40  ...   BXD44   BXD73   BXD29  BXD103  BXD12  \\\n",
       "0  9.6865  9.9070  9.8760  9.6980  ...  9.9520  9.7960  9.5015  9.8585  9.703   \n",
       "1  9.7070  9.5755  9.6915  9.7280  ...  9.7785  9.7145  9.5925  9.8305  9.592   \n",
       "2  8.9280  9.0025  9.0405  9.0145  ...  9.2085  9.0000  8.9055  9.0850  8.637   \n",
       "3  8.9520  8.8980  8.6895  9.0385  ...  8.9370  9.0625  8.8070  9.1010  8.947   \n",
       "4  8.9110  8.8345  8.9885  8.9425  ...  9.0840  8.9585  8.7730  9.0900  8.838   \n",
       "\n",
       "    BXD83   BXD89   BXD60    BXD87  BXD102  \n",
       "0  9.5980  9.7130  9.7220  10.0685  10.072  \n",
       "1  9.4545  9.7735  9.8260   9.6745   9.851  \n",
       "2  8.7330  8.8845  9.1270   9.0450   9.206  \n",
       "3  8.7905  8.8075  9.2555   8.8065   9.064  \n",
       "4  8.6490  9.1020  9.1290   8.8795   9.010  \n",
       "\n",
       "[5 rows x 47 columns]"
      ]
     },
     "execution_count": 11,
     "metadata": {},
     "output_type": "execute_result"
    }
   ],
   "source": [
    "# Drop BXD columns which are not exist in the LPS file (from genotype file)\n",
    "brain_bxd_unique = set()\n",
    "for col in brain_bxd_cols:\n",
    "    bxd_idx = col.split(\"_\")[0]\n",
    "    brain_bxd_unique.add(bxd_idx)\n",
    "    \n",
    "brain_bxd_unique = list(brain_bxd_unique)\n",
    "\n",
    "# Average across different individuals of the same strain\n",
    "for col in brain_bxd_unique:\n",
    "    individuals_cols = list(brain_matrix.filter(regex=(col + '_')).columns)\n",
    "    brain_matrix[col] = brain_matrix[individuals_cols].astype(float).mean(axis=1)\n",
    "\n",
    "brain_matrix = brain_matrix.drop(columns=brain_bxd_cols)\n",
    "brain_matrix.head(5)"
   ]
  },
  {
   "cell_type": "markdown",
   "metadata": {},
   "source": [
    "#### Keep only BXD columns that exists in the four files: genotypes, phenotypes and each tissue seperately"
   ]
  },
  {
   "cell_type": "code",
   "execution_count": 14,
   "metadata": {},
   "outputs": [],
   "source": [
    "genotypes_bxd_cols = list(genotypes.filter(regex=(\"BXD*\")).columns)\n",
    "phenotypes_bxd_cols = list(phenotypes.filter(regex=(\"BXD*\")).columns)\n",
    "\n",
    "genotypes_baseline_cols = [\"Locus\", \"Chr_Build37\", \"Build37_position\"]\n",
    "phenotypes_baseline_cols = [\"Phenotype\", \"Authors\", \"Year\", \"Pubmed Id\"]\n",
    "\n",
    "liver_common_bxd = list(set(genotypes_bxd_cols) & set(phenotypes_bxd_cols) &  set(liver_bxd_unique))\n",
    "liver_matrix = liver_matrix[['GENE_SYMBOL'] + liver_common_bxd]\n",
    "liver_genotypes = genotypes[genotypes_baseline_cols + liver_common_bxd]\n",
    "liver_phenotypes = phenotypes[phenotypes_baseline_cols + liver_common_bxd]\n",
    "\n",
    "brain_common_bxd = list(set(genotypes_bxd_cols) & set(phenotypes_bxd_cols) &  set(brain_bxd_unique))\n",
    "brain_matrix = brain_matrix[['GENE_SYMBOL'] + brain_common_bxd]\n",
    "brain_genotypes = genotypes[genotypes_baseline_cols + brain_common_bxd]\n",
    "liver_phenotypes = phenotypes[phenotypes_baseline_cols + brain_common_bxd]"
   ]
  },
  {
   "cell_type": "markdown",
   "metadata": {},
   "source": [
    "### 3. eQTL analysis"
   ]
  }
 ],
 "metadata": {
  "kernelspec": {
   "display_name": "Python 3",
   "language": "python",
   "name": "python3"
  },
  "language_info": {
   "codemirror_mode": {
    "name": "ipython",
    "version": 3
   },
   "file_extension": ".py",
   "mimetype": "text/x-python",
   "name": "python",
   "nbconvert_exporter": "python",
   "pygments_lexer": "ipython3",
   "version": "3.7.7"
  }
 },
 "nbformat": 4,
 "nbformat_minor": 4
}
