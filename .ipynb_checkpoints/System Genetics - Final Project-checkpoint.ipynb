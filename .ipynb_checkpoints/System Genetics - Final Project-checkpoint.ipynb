{
 "cells": [
  {
   "cell_type": "markdown",
   "metadata": {},
   "source": [
    "# Systems genetics 2020 - Final Project  "
   ]
  },
  {
   "cell_type": "markdown",
   "metadata": {},
   "source": [
    "TODO: (open issuts)\n",
    "1. X and Y chr converting to 20?"
   ]
  },
  {
   "cell_type": "markdown",
   "metadata": {},
   "source": [
    "Import public packges"
   ]
  },
  {
   "cell_type": "code",
   "execution_count": 1,
   "metadata": {},
   "outputs": [],
   "source": [
    "import pandas as pd\n",
    "import numpy as np\n",
    "from scipy.stats import f\n",
    "import matplotlib.pyplot as plt\n",
    "import os.path\n",
    "import sys\n",
    "from tqdm import tqdm\n",
    "\n",
    "import warnings\n",
    "warnings.filterwarnings('ignore')"
   ]
  },
  {
   "cell_type": "markdown",
   "metadata": {},
   "source": [
    "Import custom packges"
   ]
  },
  {
   "cell_type": "code",
   "execution_count": 2,
   "metadata": {},
   "outputs": [],
   "source": [
    "sys.path.append('modules')\n",
    "\n",
    "from utils import print_dim\n",
    "from preprocessing import data_annotations_merge\n",
    "from regression import eqtl_analysis\n",
    "from test_analysis import get_associations, cis_trans_annotation"
   ]
  },
  {
   "cell_type": "code",
   "execution_count": 3,
   "metadata": {},
   "outputs": [],
   "source": [
    "bold_s = '\\033[1m'\n",
    "bold_e = '\\033[0m'"
   ]
  },
  {
   "cell_type": "markdown",
   "metadata": {},
   "source": [
    "Load data files"
   ]
  },
  {
   "cell_type": "code",
   "execution_count": 4,
   "metadata": {},
   "outputs": [],
   "source": [
    "liver_exp = pd.read_csv('data/GSE17522_series_matrix_liver.txt', sep = \"\\t\")\n",
    "brain_exp = pd.read_csv('data/GSE36674_series_matrix_hypothalamus.txt', sep = \"\\t\")\n",
    "\n",
    "liver_annotations = pd.read_csv('data/annotations_liver_GPL6466-9752.txt', sep = \"\\t\")\n",
    "brain_annotations = pd.read_csv('data/annotation_brain.annot', sep = \"\\t\")\n",
    "\n",
    "genotypes = pd.read_excel('data/genotypes.xls', headers=None)\n",
    "phenotypes = pd.read_excel('data/phenotypes.xls')\n",
    "\n",
    "mgi = pd.read_csv('data/MGI_Coordinates.Build37.rpt.txt', sep = \"\\t\", error_bad_lines=False, warn_bad_lines=False)"
   ]
  },
  {
   "cell_type": "markdown",
   "metadata": {},
   "source": [
    "### 2. Gene expression data preprocessing"
   ]
  },
  {
   "cell_type": "markdown",
   "metadata": {},
   "source": [
    "#### A. Merge data file with annotation file to get your input matrix"
   ]
  },
  {
   "cell_type": "markdown",
   "metadata": {},
   "source": [
    "Brain"
   ]
  },
  {
   "cell_type": "code",
   "execution_count": 5,
   "metadata": {},
   "outputs": [],
   "source": [
    "brain_annotations = brain_annotations.rename(columns={'Gene symbol' : 'GENE_SYMBOL'})\n",
    "brain_matrix = data_annotations_merge(brain_exp, brain_annotations)"
   ]
  },
  {
   "cell_type": "markdown",
   "metadata": {},
   "source": [
    "Liver"
   ]
  },
  {
   "cell_type": "code",
   "execution_count": 6,
   "metadata": {},
   "outputs": [],
   "source": [
    "liver_matrix = data_annotations_merge(liver_exp, liver_annotations)\n",
    "\n",
    "# Keep BXD columns and identifier columns only\n",
    "liver_bxd_cols = list(liver_matrix.filter(regex=(\"BXD*\")).columns)\n",
    "id_cols = ['ID', 'GENE_SYMBOL']\n",
    "liver_matrix = liver_matrix[id_cols + liver_bxd_cols]\n",
    "\n",
    "# Rename BXD columns\n",
    "liver_matrix = liver_matrix.rename(columns={col : col.split('_')[1] + '_' + col.split('_')[2] \\\n",
    "                                            for col in liver_matrix.columns.drop(id_cols)})"
   ]
  },
  {
   "cell_type": "markdown",
   "metadata": {},
   "source": [
    "#### B. Keep only BXD columns that exists in the four files: genotypes, phenotypes and each tissue seperately"
   ]
  },
  {
   "cell_type": "code",
   "execution_count": 7,
   "metadata": {},
   "outputs": [],
   "source": [
    "genotypes_bxd_cols = list(genotypes.filter(regex=(\"BXD*\")).columns)\n",
    "phenotypes_bxd_cols = list(phenotypes.filter(regex=(\"BXD*\")).columns)\n",
    "\n",
    "genotypes_baseline_cols = [\"Locus\", \"Chr_Build37\", \"Build37_position\"]\n",
    "phenotypes_baseline_cols = [\"Phenotype\", \"Authors\", \"Year\", \"Pubmed Id\"]\n",
    "\n",
    "# liver common columns\n",
    "liver_matrix = liver_matrix.rename(columns = {col : col.split('_')[0] for col in liver_matrix.drop(columns = id_cols)}) \n",
    "liver_bxd_cols = list(liver_matrix.filter(regex='BXD').columns)\n",
    "liver_common_bxd = list(set(genotypes_bxd_cols) & set(phenotypes_bxd_cols) &  set(liver_bxd_cols))\n",
    "liver_common_bxd.sort()\n",
    "liver_matrix = liver_matrix[['GENE_SYMBOL'] + liver_common_bxd]\n",
    "liver_genotypes = genotypes[genotypes_baseline_cols + liver_common_bxd]\n",
    "liver_phenotypes = phenotypes[phenotypes_baseline_cols + liver_common_bxd]\n",
    "\n",
    "# brain common columns\n",
    "brain_matrix = brain_matrix.rename(columns = {col : col.split('_')[0] for col in brain_matrix.drop(columns = id_cols)}) \n",
    "brain_bxd_cols = list(brain_matrix.filter(regex='BXD').columns)\n",
    "brain_common_bxd = list(set(genotypes_bxd_cols) & set(phenotypes_bxd_cols) &  set(brain_bxd_cols))\n",
    "brain_common_bxd.sort()\n",
    "brain_matrix = brain_matrix[['GENE_SYMBOL'] + brain_common_bxd]\n",
    "brain_genotypes = genotypes[genotypes_baseline_cols + brain_common_bxd]\n",
    "brain_phenotypes = phenotypes[phenotypes_baseline_cols + brain_common_bxd]"
   ]
  },
  {
   "cell_type": "markdown",
   "metadata": {},
   "source": [
    "#### C. Use only representative genomic loci - Drop duplicated rows (of neighboring loci)"
   ]
  },
  {
   "cell_type": "code",
   "execution_count": 8,
   "metadata": {},
   "outputs": [
    {
     "name": "stdout",
     "output_type": "stream",
     "text": [
      "LIVER Genotypes: Drop duplications:\n",
      "#SNPs before: 3796   -->   #SNPs after: 1403\n",
      "LIVER Genotypes: Drop duplications:\n",
      "#SNPs before: 3796   -->   #SNPs after: 1598\n"
     ]
    },
    {
     "data": {
      "text/html": [
       "<div>\n",
       "<style scoped>\n",
       "    .dataframe tbody tr th:only-of-type {\n",
       "        vertical-align: middle;\n",
       "    }\n",
       "\n",
       "    .dataframe tbody tr th {\n",
       "        vertical-align: top;\n",
       "    }\n",
       "\n",
       "    .dataframe thead th {\n",
       "        text-align: right;\n",
       "    }\n",
       "</style>\n",
       "<table border=\"1\" class=\"dataframe\">\n",
       "  <thead>\n",
       "    <tr style=\"text-align: right;\">\n",
       "      <th></th>\n",
       "      <th>Locus</th>\n",
       "      <th>Chr_Build37</th>\n",
       "      <th>Build37_position</th>\n",
       "      <th>BXD1</th>\n",
       "      <th>BXD100</th>\n",
       "      <th>BXD101</th>\n",
       "      <th>BXD102</th>\n",
       "      <th>BXD103</th>\n",
       "      <th>BXD11</th>\n",
       "      <th>BXD12</th>\n",
       "      <th>...</th>\n",
       "      <th>BXD80</th>\n",
       "      <th>BXD83</th>\n",
       "      <th>BXD84</th>\n",
       "      <th>BXD85</th>\n",
       "      <th>BXD87</th>\n",
       "      <th>BXD89</th>\n",
       "      <th>BXD90</th>\n",
       "      <th>BXD95</th>\n",
       "      <th>BXD97</th>\n",
       "      <th>BXD99</th>\n",
       "    </tr>\n",
       "  </thead>\n",
       "  <tbody>\n",
       "    <tr>\n",
       "      <th>0</th>\n",
       "      <td>rs6269442</td>\n",
       "      <td>1</td>\n",
       "      <td>3482276</td>\n",
       "      <td>B</td>\n",
       "      <td>B</td>\n",
       "      <td>U</td>\n",
       "      <td>U</td>\n",
       "      <td>U</td>\n",
       "      <td>B</td>\n",
       "      <td>D</td>\n",
       "      <td>...</td>\n",
       "      <td>D</td>\n",
       "      <td>H</td>\n",
       "      <td>B</td>\n",
       "      <td>D</td>\n",
       "      <td>B</td>\n",
       "      <td>B</td>\n",
       "      <td>B</td>\n",
       "      <td>D</td>\n",
       "      <td>B</td>\n",
       "      <td>B</td>\n",
       "    </tr>\n",
       "    <tr>\n",
       "      <th>2</th>\n",
       "      <td>rs6376963</td>\n",
       "      <td>1</td>\n",
       "      <td>5008090</td>\n",
       "      <td>B</td>\n",
       "      <td>B</td>\n",
       "      <td>U</td>\n",
       "      <td>U</td>\n",
       "      <td>U</td>\n",
       "      <td>B</td>\n",
       "      <td>D</td>\n",
       "      <td>...</td>\n",
       "      <td>D</td>\n",
       "      <td>H</td>\n",
       "      <td>B</td>\n",
       "      <td>D</td>\n",
       "      <td>B</td>\n",
       "      <td>B</td>\n",
       "      <td>B</td>\n",
       "      <td>D</td>\n",
       "      <td>B</td>\n",
       "      <td>B</td>\n",
       "    </tr>\n",
       "    <tr>\n",
       "      <th>3</th>\n",
       "      <td>rs3677817</td>\n",
       "      <td>1</td>\n",
       "      <td>5176059</td>\n",
       "      <td>B</td>\n",
       "      <td>B</td>\n",
       "      <td>U</td>\n",
       "      <td>U</td>\n",
       "      <td>U</td>\n",
       "      <td>B</td>\n",
       "      <td>D</td>\n",
       "      <td>...</td>\n",
       "      <td>D</td>\n",
       "      <td>H</td>\n",
       "      <td>B</td>\n",
       "      <td>D</td>\n",
       "      <td>B</td>\n",
       "      <td>B</td>\n",
       "      <td>B</td>\n",
       "      <td>D</td>\n",
       "      <td>B</td>\n",
       "      <td>B</td>\n",
       "    </tr>\n",
       "    <tr>\n",
       "      <th>4</th>\n",
       "      <td>rs8236463</td>\n",
       "      <td>1</td>\n",
       "      <td>5579194</td>\n",
       "      <td>B</td>\n",
       "      <td>B</td>\n",
       "      <td>U</td>\n",
       "      <td>U</td>\n",
       "      <td>U</td>\n",
       "      <td>D</td>\n",
       "      <td>D</td>\n",
       "      <td>...</td>\n",
       "      <td>D</td>\n",
       "      <td>H</td>\n",
       "      <td>B</td>\n",
       "      <td>D</td>\n",
       "      <td>B</td>\n",
       "      <td>B</td>\n",
       "      <td>B</td>\n",
       "      <td>D</td>\n",
       "      <td>B</td>\n",
       "      <td>B</td>\n",
       "    </tr>\n",
       "    <tr>\n",
       "      <th>6</th>\n",
       "      <td>rs6298633</td>\n",
       "      <td>1</td>\n",
       "      <td>6820242</td>\n",
       "      <td>B</td>\n",
       "      <td>B</td>\n",
       "      <td>U</td>\n",
       "      <td>U</td>\n",
       "      <td>U</td>\n",
       "      <td>D</td>\n",
       "      <td>D</td>\n",
       "      <td>...</td>\n",
       "      <td>D</td>\n",
       "      <td>H</td>\n",
       "      <td>B</td>\n",
       "      <td>D</td>\n",
       "      <td>B</td>\n",
       "      <td>B</td>\n",
       "      <td>B</td>\n",
       "      <td>D</td>\n",
       "      <td>B</td>\n",
       "      <td>B</td>\n",
       "    </tr>\n",
       "  </tbody>\n",
       "</table>\n",
       "<p>5 rows × 48 columns</p>\n",
       "</div>"
      ],
      "text/plain": [
       "       Locus  Chr_Build37  Build37_position BXD1 BXD100 BXD101 BXD102 BXD103  \\\n",
       "0  rs6269442            1           3482276    B      B      U      U      U   \n",
       "2  rs6376963            1           5008090    B      B      U      U      U   \n",
       "3  rs3677817            1           5176059    B      B      U      U      U   \n",
       "4  rs8236463            1           5579194    B      B      U      U      U   \n",
       "6  rs6298633            1           6820242    B      B      U      U      U   \n",
       "\n",
       "  BXD11 BXD12  ... BXD80 BXD83 BXD84 BXD85 BXD87 BXD89 BXD90 BXD95 BXD97 BXD99  \n",
       "0     B     D  ...     D     H     B     D     B     B     B     D     B     B  \n",
       "2     B     D  ...     D     H     B     D     B     B     B     D     B     B  \n",
       "3     B     D  ...     D     H     B     D     B     B     B     D     B     B  \n",
       "4     D     D  ...     D     H     B     D     B     B     B     D     B     B  \n",
       "6     D     D  ...     D     H     B     D     B     B     B     D     B     B  \n",
       "\n",
       "[5 rows x 48 columns]"
      ]
     },
     "execution_count": 8,
     "metadata": {},
     "output_type": "execute_result"
    }
   ],
   "source": [
    "# liver genotypes filtering\n",
    "snps_org = len(liver_genotypes)\n",
    "\n",
    "bxd_data = liver_genotypes[liver_common_bxd]\n",
    "duplicates_indx = bxd_data[bxd_data.shift() != bxd_data].dropna(how='all').index\n",
    "liver_genotypes = liver_genotypes.loc[duplicates_indx]\n",
    "\n",
    "print(\"LIVER Genotypes: Drop duplications:\\n#SNPs before: %d   -->   #SNPs after: %d\" % (snps_org, len(liver_genotypes)))\n",
    "liver_genotypes.head(5)\n",
    "\n",
    "# Brain genotypes filtering\n",
    "snps_org = len(brain_genotypes)\n",
    "\n",
    "bxd_data = brain_genotypes[brain_common_bxd]\n",
    "duplicates_indx = bxd_data[bxd_data.shift() != bxd_data].dropna(how='all').index\n",
    "brain_genotypes = brain_genotypes.loc[duplicates_indx]\n",
    "\n",
    "print(\"LIVER Genotypes: Drop duplications:\\n#SNPs before: %d   -->   #SNPs after: %d\" % (snps_org, len(brain_genotypes)))\n",
    "brain_genotypes.head(5)"
   ]
  },
  {
   "cell_type": "markdown",
   "metadata": {},
   "source": [
    "#### • Remove rows with no gene identifier, <br> • Remove rows with low maximal value.  <br> • Remove rows with low variance.  <br> • Average multiple rows\n"
   ]
  },
  {
   "cell_type": "markdown",
   "metadata": {},
   "source": [
    "Liver"
   ]
  },
  {
   "cell_type": "code",
   "execution_count": 9,
   "metadata": {
    "scrolled": false
   },
   "outputs": [
    {
     "name": "stdout",
     "output_type": "stream",
     "text": [
      "Num of rows after removing all rows with maximal values less than 0.70: 7772 \n",
      "Num of rows after removing all rows with variance less than 0.20: 1308 \n",
      "Num of rows after removing duplicated rows: %d  1285\n"
     ]
    }
   ],
   "source": [
    "max_treshold = 0.7\n",
    "var_treshold = 0.2\n",
    "\n",
    "# Remove rows with no gene identifier\n",
    "liver_matrix = liver_matrix[~liver_matrix['GENE_SYMBOL'].isna()]\n",
    "liver_bxd_cols = list(liver_matrix.filter(regex=(\"BXD*\")).columns)\n",
    "\n",
    "for col in liver_bxd_cols:\n",
    "    liver_matrix[col] = liver_matrix[col].astype('float64')\n",
    "\n",
    "# Filter by maximal value\n",
    "liver_matrix['max'] = liver_matrix.drop(columns=['GENE_SYMBOL']).max(axis=1)\n",
    "liver_matrix = liver_matrix[liver_matrix['max'] >= max_treshold]\n",
    "liver_matrix = liver_matrix.drop(columns = 'max')\n",
    "print(\"Num of rows after removing all rows with maximal values less than %.2f: %d \" % (max_treshold, len(liver_matrix)))\n",
    "\n",
    "# Filter by variance\n",
    "liver_matrix['var'] = liver_matrix.drop(columns=['GENE_SYMBOL']).var(axis=1)\n",
    "liver_matrix = liver_matrix[liver_matrix['var'] >= var_treshold]\n",
    "liver_matrix = liver_matrix.drop(columns = 'var')\n",
    "print(\"Num of rows after removing all rows with variance less than %.2f: %d \" % (var_treshold, len(liver_matrix)))\n",
    "\n",
    "# Group multiple rows by mean\n",
    "liver_matrix = liver_matrix.groupby('GENE_SYMBOL').agg('mean').reset_index()\n",
    "print(\"Num of rows after removing duplicated rows: %d \", len(liver_matrix))"
   ]
  },
  {
   "cell_type": "markdown",
   "metadata": {},
   "source": [
    "Brain"
   ]
  },
  {
   "cell_type": "code",
   "execution_count": 10,
   "metadata": {},
   "outputs": [
    {
     "name": "stdout",
     "output_type": "stream",
     "text": [
      "Num of rows after removing all rows with maximal values less than 9.00: 9893 \n",
      "Num of rows after removing all rows with variance less than 0.04: 1444 \n",
      "Num of rows after removing duplicated rows: %d  1247\n"
     ]
    }
   ],
   "source": [
    "max_treshold = 9\n",
    "var_treshold = 0.04\n",
    "\n",
    "# Remove rows with no gene identifier\n",
    "brain_matrix = brain_matrix[~brain_matrix['GENE_SYMBOL'].isna()]\n",
    "brain_bxd_cols = list(brain_matrix.filter(regex=(\"BXD*\")).columns)\n",
    "\n",
    "for col in brain_bxd_cols:\n",
    "    brain_matrix[col] = brain_matrix[col].astype('float64')\n",
    "\n",
    "# Filter by maximal value\n",
    "brain_matrix['max'] = brain_matrix.drop(columns=['GENE_SYMBOL']).max(axis=1)\n",
    "brain_matrix = brain_matrix[brain_matrix['max'] >= max_treshold]\n",
    "brain_matrix = brain_matrix.drop(columns = 'max')\n",
    "print(\"Num of rows after removing all rows with maximal values less than %.2f: %d \" % (max_treshold, len(brain_matrix)))\n",
    "\n",
    "# Filter by variance\n",
    "brain_matrix['var'] = brain_matrix.drop(columns=['GENE_SYMBOL']).var(axis=1)\n",
    "brain_matrix = brain_matrix[brain_matrix['var'] >= var_treshold]\n",
    "brain_matrix = brain_matrix.drop(columns = 'var')\n",
    "print(\"Num of rows after removing all rows with variance less than %.2f: %d \" % (var_treshold, len(brain_matrix)))\n",
    "\n",
    "# Group multiple rows by mean\n",
    "brain_matrix = brain_matrix.groupby('GENE_SYMBOL').agg('mean').reset_index()\n",
    "print(\"Num of rows after removing duplicated rows: %d \", len(brain_matrix))"
   ]
  },
  {
   "cell_type": "markdown",
   "metadata": {},
   "source": [
    "#### • Average across different individuals of the same strain (Females and males)"
   ]
  },
  {
   "cell_type": "code",
   "execution_count": 11,
   "metadata": {},
   "outputs": [],
   "source": [
    "liver_matrix = liver_matrix.rename(columns = {col : col.split('_')[0] for col in liver_matrix.drop(columns = ['GENE_SYMBOL'])}) \n",
    "liver_matrix = liver_matrix.set_index(['GENE_SYMBOL']) \n",
    "liver_matrix = liver_matrix.groupby(by=liver_matrix.columns, axis=1).mean()\n",
    "liver_matrix = liver_matrix.reset_index()\n",
    "\n",
    "brain_matrix = brain_matrix.rename(columns = {col : col.split('_')[0] for col in brain_matrix.drop(columns = ['GENE_SYMBOL'])}) \n",
    "brain_matrix = brain_matrix.set_index(['GENE_SYMBOL']) \n",
    "brain_matrix = brain_matrix.groupby(by=brain_matrix.columns, axis=1).mean()\n",
    "brain_matrix = brain_matrix.reset_index()"
   ]
  },
  {
   "cell_type": "markdown",
   "metadata": {},
   "source": [
    "### 3. eQTL analysis"
   ]
  },
  {
   "cell_type": "markdown",
   "metadata": {},
   "source": [
    "#### Run  Regression"
   ]
  },
  {
   "cell_type": "code",
   "execution_count": 12,
   "metadata": {},
   "outputs": [
    {
     "name": "stdout",
     "output_type": "stream",
     "text": [
      "Liver: \n",
      "* Expression matrix size: 1285\n",
      "* Genotype matrix size: 1403\n",
      "* Expected num of tests: 1,802,855\n",
      "\n",
      "Brain: \n",
      "* Expression matrix size: 1247\n",
      "* Genotype matrix size: 1598\n",
      "* Expected num of tests: 1,992,706\n",
      "\n"
     ]
    }
   ],
   "source": [
    "print_dim(len(liver_matrix), len(liver_genotypes), title=\"Liver: \")\n",
    "print_dim(len(brain_matrix), len(brain_genotypes), title=\"Brain: \")"
   ]
  },
  {
   "cell_type": "code",
   "execution_count": 13,
   "metadata": {
    "scrolled": true
   },
   "outputs": [],
   "source": [
    "if not os.path.exists(\"brain_reg_results.csv\"):\n",
    "    brain_reg_results = eqtl_analysis(brain_matrix, brain_genotypes, file_prefix=\"brain_\")\n",
    "else:\n",
    "    brain_reg_results = pd.read_csv(\"brain_reg_results.csv\")\n",
    "    brain_reg_results = brain_reg_results.drop(columns='Unnamed: 0')"
   ]
  },
  {
   "cell_type": "code",
   "execution_count": 14,
   "metadata": {},
   "outputs": [],
   "source": [
    "if not os.path.exists(\"liver_reg_results.csv\"):\n",
    "    liver_reg_results = eqtl_analysis(liver_matrix, liver_genotypes, file_prefix=\"liver_\")\n",
    "else:\n",
    "    liver_reg_results = pd.read_csv(\"liver_reg_results.csv\")\n",
    "    liver_reg_results = liver_reg_results.drop(columns='Unnamed: 0')"
   ]
  },
  {
   "cell_type": "markdown",
   "metadata": {},
   "source": [
    "#### Cis/Trans annotation"
   ]
  },
  {
   "cell_type": "code",
   "execution_count": 15,
   "metadata": {},
   "outputs": [
    {
     "name": "stderr",
     "output_type": "stream",
     "text": [
      "100%|██████████████████████████████████████████████████████████████████████████████| 1247/1247 [05:10<00:00,  4.02it/s]\n",
      "100%|██████████████████████████████████████████████████████████████████████████████| 1285/1285 [05:19<00:00,  4.02it/s]\n"
     ]
    }
   ],
   "source": [
    "brain_reg_results = cis_trans_annotation(brain_reg_results.copy(), mgi)\n",
    "liver_reg_results = cis_trans_annotation(liver_reg_results.copy(), mgi)"
   ]
  },
  {
   "cell_type": "markdown",
   "metadata": {},
   "source": [
    "#### Multiple test correction and associations filtering"
   ]
  },
  {
   "cell_type": "code",
   "execution_count": 16,
   "metadata": {},
   "outputs": [],
   "source": [
    "brain_associations, brain_num_tests = get_associations(brain_reg_results) # by bonfferoni corrections\n",
    "brain_associations.to_csv(\"brain_assoc_eqtl.csv\")\n",
    "\n",
    "liver_associations, liver_num_tests = get_associations(liver_reg_results) # by bonfferoni corrections\n",
    "liver_associations.to_csv(\"brain_assoc_eqtl.csv\")"
   ]
  },
  {
   "cell_type": "code",
   "execution_count": 19,
   "metadata": {},
   "outputs": [],
   "source": [
    "def print_stats(assoc_eqtl, num_tests, title=\"\"):\n",
    "    total = len(assoc_eqtl)\n",
    "    cis = assoc_eqtl[assoc_eqtl['closeness'] == 'cis']\n",
    "    trans = assoc_eqtl[assoc_eqtl['closeness'] == 'trans']\n",
    "    print(bold_s + title + bold_e)\n",
    "    print(bold_s + \"Number of tests: \" + bold_e, num_tests)\n",
    "    print(\"\\n\" + bold_s + \"Number of different significant eQTLs: \" + bold_e, len(assoc_eqtl.SNP.unique()))\n",
    "    print(\"From which: \\n %d - cis-acting \\n %d - trans-acting \" % (len(cis.SNP.unique()), len(trans.SNP.unique())))\n",
    "    print(\"\\n\" + bold_s + \"Number of total significant eQTLs: \" + bold_e, len(assoc_eqtl))\n",
    "    print(\"From which: \\n %d - cis-acting \\n %d - trans-acting \" % (len(cis), len(trans)))"
   ]
  },
  {
   "cell_type": "code",
   "execution_count": 21,
   "metadata": {},
   "outputs": [
    {
     "name": "stdout",
     "output_type": "stream",
     "text": [
      "\u001b[1mBrain\u001b[0m\n",
      "\u001b[1mNumber of tests: \u001b[0m 1992706\n",
      "\n",
      "\u001b[1mNumber of different significant eQTLs: \u001b[0m 472\n",
      "From which: \n",
      " 260 - cis-acting \n",
      " 231 - trans-acting \n",
      "\n",
      "\u001b[1mNumber of total significant eQTLs: \u001b[0m 868\n",
      "From which: \n",
      " 349 - cis-acting \n",
      " 337 - trans-acting \n",
      "\n",
      "\u001b[1mLiver\u001b[0m\n",
      "\u001b[1mNumber of tests: \u001b[0m 1802855\n",
      "\n",
      "\u001b[1mNumber of different significant eQTLs: \u001b[0m 481\n",
      "From which: \n",
      " 261 - cis-acting \n",
      " 278 - trans-acting \n",
      "\n",
      "\u001b[1mNumber of total significant eQTLs: \u001b[0m 840\n",
      "From which: \n",
      " 325 - cis-acting \n",
      " 468 - trans-acting \n"
     ]
    }
   ],
   "source": [
    "print_stats(brain_associations, brain_num_tests, \"Brain\")\n",
    "print()\n",
    "print_stats(liver_associations, liver_num_tests, \"Liver\")"
   ]
  }
 ],
 "metadata": {
  "kernelspec": {
   "display_name": "Python 3",
   "language": "python",
   "name": "python3"
  },
  "language_info": {
   "codemirror_mode": {
    "name": "ipython",
    "version": 3
   },
   "file_extension": ".py",
   "mimetype": "text/x-python",
   "name": "python",
   "nbconvert_exporter": "python",
   "pygments_lexer": "ipython3",
   "version": "3.7.7"
  }
 },
 "nbformat": 4,
 "nbformat_minor": 4
}
